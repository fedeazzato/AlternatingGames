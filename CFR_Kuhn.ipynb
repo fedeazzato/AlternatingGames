{
 "cells": [
  {
   "cell_type": "code",
   "execution_count": 9,
   "metadata": {},
   "outputs": [
    {
     "name": "stdout",
     "output_type": "stream",
     "text": [
      "The autoreload extension is already loaded. To reload it, use:\n",
      "  %reload_ext autoreload\n"
     ]
    }
   ],
   "source": [
    "%load_ext autoreload\n",
    "%autoreload 2\n",
    "\n",
    "from games.kuhn import KuhnPoker\n",
    "from agents.agent_random import RandomAgent\n",
    "from agents.counterfactualregret import CounterFactualRegret\n",
    "from base.utils import play, run\n",
    "import numpy as np"
   ]
  },
  {
   "cell_type": "code",
   "execution_count": 10,
   "metadata": {},
   "outputs": [],
   "source": [
    "game = KuhnPoker()"
   ]
  },
  {
   "cell_type": "code",
   "execution_count": 11,
   "metadata": {},
   "outputs": [
    {
     "name": "stdout",
     "output_type": "stream",
     "text": [
      "agent_0 K \n",
      "agent_1 Q \n",
      "agent_0 K bp\n",
      "agent_1 Q bp\n",
      "{'agent_0': 1, 'agent_1': -1}\n"
     ]
    }
   ],
   "source": [
    "agents = dict(map(lambda agent: (agent, RandomAgent(game=game, agent=agent)), game.agents))\n",
    "play(game=game, agents=agents)"
   ]
  },
  {
   "cell_type": "code",
   "execution_count": 12,
   "metadata": {},
   "outputs": [
    {
     "name": "stdout",
     "output_type": "stream",
     "text": [
      "agent_0 K \n",
      "agent_1 J \n",
      "agent_0 K pp\n",
      "agent_1 J pp\n",
      "{'agent_0': 1, 'agent_1': -1}\n"
     ]
    }
   ],
   "source": [
    "cfr_agent = CounterFactualRegret(game=game, agent=game.agents[0])\n",
    "cfr_agent.train()\n",
    "agents[game.agents[0]] = cfr_agent\n",
    "play(game=game, agents=agents)"
   ]
  },
  {
   "cell_type": "code",
   "execution_count": 13,
   "metadata": {},
   "outputs": [
    {
     "name": "stdout",
     "output_type": "stream",
     "text": [
      "agent_0 J \n",
      "agent_1 Q \n",
      "agent_0 J pp\n",
      "agent_1 Q pp\n",
      "{'agent_0': -1, 'agent_1': 1}\n"
     ]
    }
   ],
   "source": [
    "play(game=game, agents=agents)"
   ]
  },
  {
   "cell_type": "code",
   "execution_count": 14,
   "metadata": {},
   "outputs": [],
   "source": [
    "cfr_agent = CounterFactualRegret(game=game, agent=game.agents[1])\n",
    "cfr_agent.train()\n",
    "agents[game.agents[1]] = cfr_agent"
   ]
  },
  {
   "cell_type": "code",
   "execution_count": 15,
   "metadata": {},
   "outputs": [
    {
     "name": "stdout",
     "output_type": "stream",
     "text": [
      "agent_0 J \n",
      "agent_1 K \n",
      "agent_0 J pbp\n",
      "agent_1 K pbp\n",
      "{'agent_0': -1, 'agent_1': 1}\n"
     ]
    }
   ],
   "source": [
    "play(game=game, agents=agents)"
   ]
  },
  {
   "cell_type": "code",
   "execution_count": 16,
   "metadata": {},
   "outputs": [
    {
     "name": "stdout",
     "output_type": "stream",
     "text": [
      "{'0': ['agent_0', array([0.83295986, 0.16704014])], '0b': ['agent_1', array([0.99711816, 0.00288184])], '0p': ['agent_1', array([0.75510046, 0.24489954])], '0pb': ['agent_0', array([0.99746079, 0.00253921])], '1': ['agent_0', array([0.99244713, 0.00755287])], '1b': ['agent_1', array([0.57736678, 0.42263322])], '1p': ['agent_1', array([0.99411765, 0.00588235])], '1pb': ['agent_0', array([0.33136903, 0.66863097])], '2': ['agent_0', array([0.34856069, 0.65143931])], '2b': ['agent_1', array([0.00316456, 0.99683544])], '2p': ['agent_1', array([0.00791139, 0.99208861])], '2pb': ['agent_0', array([0.00673598, 0.99326402])]}\n",
      "{'0': ['agent_0', array([0.84709576, 0.15290424])], '0b': ['agent_1', array([0.99705882, 0.00294118])], '0p': ['agent_1', array([0.63638076, 0.36361924])], '0pb': ['agent_0', array([0.99743807, 0.00256193])], '1': ['agent_0', array([0.98501373, 0.01498627])], '1b': ['agent_1', array([0.63245176, 0.36754824])], '1p': ['agent_1', array([0.99018127, 0.00981873])], '1pb': ['agent_0', array([0.49879453, 0.50120547])], '2': ['agent_0', array([0.49584102, 0.50415898])], '2b': ['agent_1', array([0.00301205, 0.99698795])], '2p': ['agent_1', array([0.01506024, 0.98493976])], '2pb': ['agent_0', array([0.00456962, 0.99543038])]}\n"
     ]
    }
   ],
   "source": [
    "game.reset()\n",
    "for agent in range(game.num_agents):\n",
    "    print(agents[game.agents[agent]].policy())\n"
   ]
  }
 ],
 "metadata": {
  "kernelspec": {
   "display_name": "Python 3",
   "language": "python",
   "name": "python3"
  },
  "language_info": {
   "codemirror_mode": {
    "name": "ipython",
    "version": 3
   },
   "file_extension": ".py",
   "mimetype": "text/x-python",
   "name": "python",
   "nbconvert_exporter": "python",
   "pygments_lexer": "ipython3",
   "version": "3.11.5"
  },
  "orig_nbformat": 4
 },
 "nbformat": 4,
 "nbformat_minor": 2
}
