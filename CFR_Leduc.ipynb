{
 "cells": [
  {
   "cell_type": "code",
   "execution_count": 1,
   "metadata": {},
   "outputs": [],
   "source": [
    "from games.leduc import Leduc\n",
    "from agents.agent_random import RandomAgent"
   ]
  },
  {
   "cell_type": "code",
   "execution_count": 2,
   "metadata": {},
   "outputs": [],
   "source": [
    "game = Leduc()"
   ]
  },
  {
   "cell_type": "code",
   "execution_count": 3,
   "metadata": {},
   "outputs": [
    {
     "name": "stdout",
     "output_type": "stream",
     "text": [
      "player_0 Dict('action_mask': Box(0, 1, (4,), int8), 'observation': Box(0.0, 1.0, (36,), float32))\n",
      "player_1 Dict('action_mask': Box(0, 1, (4,), int8), 'observation': Box(0.0, 1.0, (36,), float32))\n"
     ]
    }
   ],
   "source": [
    "for agent in game.agents:\n",
    "    print(agent, game.observation_space(agent))"
   ]
  },
  {
   "cell_type": "code",
   "execution_count": 4,
   "metadata": {},
   "outputs": [
    {
     "name": "stdout",
     "output_type": "stream",
     "text": [
      "player_0 Discrete(4)\n",
      "player_1 Discrete(4)\n"
     ]
    }
   ],
   "source": [
    "for agent in game.agents:\n",
    "    print(agent, game.action_space(agent))"
   ]
  },
  {
   "cell_type": "code",
   "execution_count": 5,
   "metadata": {},
   "outputs": [],
   "source": [
    "agents = dict(map(lambda p: (p, RandomAgent(game=game, agent=p)), game.agents))"
   ]
  },
  {
   "cell_type": "code",
   "execution_count": 6,
   "metadata": {},
   "outputs": [
    {
     "name": "stdout",
     "output_type": "stream",
     "text": [
      "\n",
      "=============== player_0's Hand ===============\n",
      "┌─────────┐\n",
      "│K        │\n",
      "│         │\n",
      "│         │\n",
      "│    ♥    │\n",
      "│         │\n",
      "│         │\n",
      "│        K│\n",
      "└─────────┘\n",
      "\n",
      "player_0's Chips: 2\n",
      "\n",
      "=============== player_1's Hand ===============\n",
      "┌─────────┐\n",
      "│J        │\n",
      "│         │\n",
      "│         │\n",
      "│    ♠    │\n",
      "│         │\n",
      "│         │\n",
      "│        J│\n",
      "└─────────┘\n",
      "\n",
      "player_1's Chips: 1\n",
      "\n",
      "================= Public Cards =================\n",
      "No public cards.\n",
      "\n",
      "\n"
     ]
    }
   ],
   "source": [
    "game.reset()\n",
    "game.render()"
   ]
  },
  {
   "cell_type": "code",
   "execution_count": 7,
   "metadata": {},
   "outputs": [],
   "source": [
    "import numpy as np"
   ]
  },
  {
   "cell_type": "code",
   "execution_count": 8,
   "metadata": {},
   "outputs": [
    {
     "name": "stdout",
     "output_type": "stream",
     "text": [
      "player_0 {'hand': 'SQ', 'public_card': None, 'all_chips': [1, 2], 'my_chips': 1, 'legal_actions': ['call', 'raise', 'fold'], 'current_player': 0}\n",
      "player_1 {'hand': 'HQ', 'public_card': None, 'all_chips': [1, 2], 'my_chips': 2, 'legal_actions': ['call', 'raise', 'fold'], 'current_player': 0}\n",
      "player_0 obs= Q_#_1_2_0 action= r\n",
      "player_1 obs= Q_#_4_2_0r action= c\n",
      "player_0 obs= Q_K_4_4_0rc action= r\n",
      "player_1 obs= Q_K_8_4_0rcr action= r\n",
      "player_0 obs= Q_K_8_12_0rcrr action= r\n",
      "{'player_0': -4.0, 'player_1': 4.0}\n"
     ]
    }
   ],
   "source": [
    "game.reset()\n",
    "for agent in game.agents:\n",
    "    state = game.env.env.game.get_state(game.env._name_to_int(agent))\n",
    "    print(agent, state)\n",
    "while not game.terminated():\n",
    "    player = game.agent_selection\n",
    "    action = agents[player].action()\n",
    "    print(player, 'obs=', game.observe(player), 'action=', game._moves[action])\n",
    "    #game.render()\n",
    "    game.step(action)\n",
    "print(game.rewards)\n",
    "#game.close()"
   ]
  },
  {
   "cell_type": "code",
   "execution_count": 9,
   "metadata": {},
   "outputs": [
    {
     "name": "stdout",
     "output_type": "stream",
     "text": [
      "\n",
      "=============== player_0's Hand ===============\n",
      "┌─────────┐\n",
      "│J        │\n",
      "│         │\n",
      "│         │\n",
      "│    ♥    │\n",
      "│         │\n",
      "│         │\n",
      "│        J│\n",
      "└─────────┘\n",
      "\n",
      "player_0's Chips: 2\n",
      "\n",
      "=============== player_1's Hand ===============\n",
      "┌─────────┐\n",
      "│K        │\n",
      "│         │\n",
      "│         │\n",
      "│    ♠    │\n",
      "│         │\n",
      "│         │\n",
      "│        K│\n",
      "└─────────┘\n",
      "\n",
      "player_1's Chips: 1\n",
      "\n",
      "================= Public Cards =================\n",
      "No public cards.\n",
      "\n",
      "\n",
      "\n",
      "=============== player_0's Hand ===============\n",
      "┌─────────┐\n",
      "│J        │\n",
      "│         │\n",
      "│         │\n",
      "│    ♥    │\n",
      "│         │\n",
      "│         │\n",
      "│        J│\n",
      "└─────────┘\n",
      "\n",
      "player_0's Chips: 2\n",
      "\n",
      "=============== player_1's Hand ===============\n",
      "┌─────────┐\n",
      "│K        │\n",
      "│         │\n",
      "│         │\n",
      "│    ♠    │\n",
      "│         │\n",
      "│         │\n",
      "│        K│\n",
      "└─────────┘\n",
      "\n",
      "player_1's Chips: 1\n",
      "\n",
      "================= Public Cards =================\n",
      "No public cards.\n",
      "\n",
      "\n",
      "{'player_0': 0.5, 'player_1': -0.5}\n"
     ]
    }
   ],
   "source": [
    "from agents.counterfactualregret import CounterFactualRegret\n",
    "from base.utils import play, run\n",
    "\n",
    "cfr_agent = CounterFactualRegret(game=game, agent=game.agents[0])\n",
    "cfr_agent.train()\n",
    "agents[game.agents[0]] = cfr_agent\n",
    "play(game=game, agents=agents)"
   ]
  }
 ],
 "metadata": {
  "kernelspec": {
   "display_name": "Python 3",
   "language": "python",
   "name": "python3"
  },
  "language_info": {
   "codemirror_mode": {
    "name": "ipython",
    "version": 3
   },
   "file_extension": ".py",
   "mimetype": "text/x-python",
   "name": "python",
   "nbconvert_exporter": "python",
   "pygments_lexer": "ipython3",
   "version": "3.11.5"
  }
 },
 "nbformat": 4,
 "nbformat_minor": 2
}
