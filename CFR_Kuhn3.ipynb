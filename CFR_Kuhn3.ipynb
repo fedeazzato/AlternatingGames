{
 "cells": [
  {
   "cell_type": "code",
   "execution_count": 31,
   "metadata": {},
   "outputs": [
    {
     "name": "stdout",
     "output_type": "stream",
     "text": [
      "The autoreload extension is already loaded. To reload it, use:\n",
      "  %reload_ext autoreload\n"
     ]
    }
   ],
   "source": [
    "%load_ext autoreload\n",
    "%autoreload 2\n",
    "\n",
    "from games.kuhn3 import KuhnPoker3\n",
    "from agents.agent_random import RandomAgent\n",
    "from agents.counterfactualregret import CounterFactualRegret\n",
    "from base.utils import play, run\n",
    "import numpy as np"
   ]
  },
  {
   "cell_type": "code",
   "execution_count": 32,
   "metadata": {},
   "outputs": [],
   "source": [
    "game = KuhnPoker3()"
   ]
  },
  {
   "cell_type": "code",
   "execution_count": 33,
   "metadata": {},
   "outputs": [
    {
     "name": "stdout",
     "output_type": "stream",
     "text": [
      "agent_0 A \n",
      "agent_1 Q \n",
      "agent_2 J \n",
      "agent_0 A ppbpb\n",
      "agent_1 Q ppbpb\n",
      "agent_2 J ppbpb\n",
      "{'agent_0': -1, 'agent_1': 3, 'agent_2': -2}\n"
     ]
    }
   ],
   "source": [
    "agents = dict(map(lambda agent: (agent, RandomAgent(game=game, agent=agent)), game.agents))\n",
    "play(game=game, agents=agents)"
   ]
  },
  {
   "cell_type": "code",
   "execution_count": 34,
   "metadata": {},
   "outputs": [
    {
     "name": "stdout",
     "output_type": "stream",
     "text": [
      "agent_0 K \n",
      "agent_1 A \n",
      "agent_2 J \n",
      "agent_0 K pbbp\n",
      "agent_1 A pbbp\n",
      "agent_2 J pbbp\n",
      "{'agent_0': -1, 'agent_1': 3, 'agent_2': -2}\n"
     ]
    }
   ],
   "source": [
    "cfr_agent = CounterFactualRegret(game=game, agent=game.agents[0])\n",
    "cfr_agent.train()\n",
    "agents[game.agents[0]] = cfr_agent\n",
    "play(game=game, agents=agents)"
   ]
  },
  {
   "cell_type": "code",
   "execution_count": 35,
   "metadata": {},
   "outputs": [
    {
     "name": "stdout",
     "output_type": "stream",
     "text": [
      "agent_0 Q \n",
      "agent_1 A \n",
      "agent_2 K \n",
      "agent_0 Q ppp\n",
      "agent_1 A ppp\n",
      "agent_2 K ppp\n",
      "{'agent_0': -1, 'agent_1': 2, 'agent_2': -1}\n"
     ]
    }
   ],
   "source": [
    "play(game=game, agents=agents)"
   ]
  },
  {
   "cell_type": "code",
   "execution_count": 36,
   "metadata": {},
   "outputs": [],
   "source": [
    "cfr_agent = CounterFactualRegret(game=game, agent=game.agents[1])\n",
    "cfr_agent.train()\n",
    "agents[game.agents[1]] = cfr_agent"
   ]
  },
  {
   "cell_type": "code",
   "execution_count": 37,
   "metadata": {},
   "outputs": [
    {
     "name": "stdout",
     "output_type": "stream",
     "text": [
      "agent_0 Q \n",
      "agent_1 J \n",
      "agent_2 K \n",
      "agent_0 Q ppbpp\n",
      "agent_1 J ppbpp\n",
      "agent_2 K ppbpp\n",
      "{'agent_0': -1, 'agent_1': -1, 'agent_2': 2}\n"
     ]
    }
   ],
   "source": [
    "play(game=game, agents=agents)"
   ]
  },
  {
   "cell_type": "code",
   "execution_count": 38,
   "metadata": {},
   "outputs": [],
   "source": [
    "cfr_agent = CounterFactualRegret(game=game, agent=game.agents[2])\n",
    "cfr_agent.train()\n",
    "agents[game.agents[2]] = cfr_agent"
   ]
  },
  {
   "cell_type": "code",
   "execution_count": 39,
   "metadata": {},
   "outputs": [
    {
     "name": "stdout",
     "output_type": "stream",
     "text": [
      "agent_0 Q \n",
      "agent_1 K \n",
      "agent_2 J \n",
      "agent_0 Q bbp\n",
      "agent_1 K bbp\n",
      "agent_2 J bbp\n",
      "{'agent_0': -2, 'agent_1': 3, 'agent_2': -1}\n"
     ]
    }
   ],
   "source": [
    "play(game=game, agents=agents)"
   ]
  },
  {
   "cell_type": "code",
   "execution_count": 40,
   "metadata": {},
   "outputs": [
    {
     "data": {
      "text/plain": [
       "({-2: 9, -1: 59, 2: 25, 3: 7}, -0.06)"
      ]
     },
     "execution_count": 40,
     "metadata": {},
     "output_type": "execute_result"
    }
   ],
   "source": [
    "run(game=game, agents=agents)"
   ]
  },
  {
   "cell_type": "code",
   "execution_count": 41,
   "metadata": {},
   "outputs": [
    {
     "name": "stdout",
     "output_type": "stream",
     "text": [
      "{'0': ['agent_0', array([0.87674004, 0.12325996])], '0b': ['agent_1', array([0.99598394, 0.00401606])], '0bb': ['agent_2', array([0.99578059, 0.00421941])], '0bp': ['agent_2', array([0.99367089, 0.00632911])], '0p': ['agent_1', array([0.81555625, 0.18444375])], '0pb': ['agent_2', array([0.99578059, 0.00421941])], '0pbb': ['agent_0', array([0.99370731, 0.00629269])], '0pbp': ['agent_0', array([0.99622439, 0.00377561])], '0pp': ['agent_2', array([0.67278006, 0.32721994])], '0ppb': ['agent_0', array([0.96601948, 0.03398052])], '0ppbb': ['agent_1', array([0.99631583, 0.00368417])], '0ppbp': ['agent_1', array([0.99631583, 0.00368417])], '1': ['agent_0', array([0.81276568, 0.18723432])], '1b': ['agent_1', array([0.85007522, 0.14992478])], '1bb': ['agent_2', array([0.99595142, 0.00404858])], '1bp': ['agent_2', array([0.92346726, 0.07653274])], '1p': ['agent_1', array([0.63586688, 0.36413312])], '1pb': ['agent_2', array([0.97046805, 0.02953195])], '1pbb': ['agent_0', array([0.99647278, 0.00352722])], '1pbp': ['agent_0', array([0.99412129, 0.00587871])], '1pp': ['agent_2', array([0.79457048, 0.20542952])], '1ppb': ['agent_0', array([0.87005912, 0.12994088])], '1ppbb': ['agent_1', array([0.99522059, 0.00477941])], '1ppbp': ['agent_1', array([0.95015386, 0.04984614])], '2': ['agent_0', array([0.94429281, 0.05570719])], '2b': ['agent_1', array([0.92633779, 0.07366221])], '2bb': ['agent_2', array([0.99604743, 0.00395257])], '2bp': ['agent_2', array([0.32524835, 0.67475165])], '2p': ['agent_1', array([0.9394354, 0.0605646])], '2pb': ['agent_2', array([0.70282467, 0.29717533])], '2pbb': ['agent_0', array([0.99699752, 0.00300248])], '2pbp': ['agent_0', array([0.54744294, 0.45255706])], '2pp': ['agent_2', array([0.98814229, 0.01185771])], '2ppb': ['agent_0', array([0.58018057, 0.41981943])], '2ppbb': ['agent_1', array([0.37387913, 0.62612087])], '2ppbp': ['agent_1', array([0.51858347, 0.48141653])], '3': ['agent_0', array([0.45108596, 0.54891404])], '3b': ['agent_1', array([0.00968992, 0.99031008])], '3bb': ['agent_2', array([0.00374532, 0.99625468])], '3bp': ['agent_2', array([0.00374532, 0.99625468])], '3p': ['agent_1', array([0.12512008, 0.87487992])], '3pb': ['agent_2', array([0.00374532, 0.99625468])], '3pbb': ['agent_0', array([0.00654309, 0.99345691])], '3pbp': ['agent_0', array([0.00654309, 0.99345691])], '3pp': ['agent_2', array([0.00374532, 0.99625468])], '3ppb': ['agent_0', array([0.00654309, 0.99345691])], '3ppbb': ['agent_1', array([0.02287912, 0.97712088])], '3ppbp': ['agent_1', array([0.02287912, 0.97712088])]}\n",
      "{'0': ['agent_0', array([0.96503456, 0.03496544])], '0b': ['agent_1', array([0.9939759, 0.0060241])], '0bb': ['agent_2', array([0.9958159, 0.0041841])], '0bp': ['agent_2', array([0.99372385, 0.00627615])], '0p': ['agent_1', array([0.82820082, 0.17179918])], '0pb': ['agent_2', array([0.9958159, 0.0041841])], '0pbb': ['agent_0', array([0.99698206, 0.00301794])], '0pbp': ['agent_0', array([0.99698206, 0.00301794])], '0pp': ['agent_2', array([0.77916265, 0.22083735])], '0ppb': ['agent_0', array([0.99698206, 0.00301794])], '0ppbb': ['agent_1', array([0.99637194, 0.00362806])], '0ppbp': ['agent_1', array([0.99637194, 0.00362806])], '1': ['agent_0', array([0.99585062, 0.00414938])], '1b': ['agent_1', array([0.98623788, 0.01376212])], '1bb': ['agent_2', array([0.9875, 0.0125])], '1bp': ['agent_2', array([0.98655499, 0.01344501])], '1p': ['agent_1', array([0.52574801, 0.47425199])], '1pb': ['agent_2', array([0.96854808, 0.03145192])], '1pbb': ['agent_0', array([0.9968815, 0.0031185])], '1pbp': ['agent_0', array([0.99480249, 0.00519751])], '1pp': ['agent_2', array([0.84406906, 0.15593094])], '1ppb': ['agent_0', array([0.97401247, 0.02598753])], '1ppbb': ['agent_1', array([0.99415236, 0.00584764])], '1ppbp': ['agent_1', array([0.49244202, 0.50755798])], '2': ['agent_0', array([0.99590164, 0.00409836])], '2b': ['agent_1', array([0.67378208, 0.32621792])], '2bb': ['agent_2', array([0.99414062, 0.00585938])], '2bp': ['agent_2', array([0.32058053, 0.67941947])], '2p': ['agent_1', array([0.93868887, 0.06131113])], '2pb': ['agent_2', array([0.58465591, 0.41534409])], '2pbb': ['agent_0', array([0.99691992, 0.00308008])], '2pbp': ['agent_0', array([0.73704211, 0.26295789])], '2pp': ['agent_2', array([0.9765625, 0.0234375])], '2ppb': ['agent_0', array([0.75710396, 0.24289604])], '2ppbb': ['agent_1', array([0.90713182, 0.09286818])], '2ppbp': ['agent_1', array([0.11542406, 0.88457594])], '3': ['agent_0', array([0.91293914, 0.08706086])], '3b': ['agent_1', array([0.00393701, 0.99606299])], '3bb': ['agent_2', array([0.00371747, 0.99628253])], '3bp': ['agent_2', array([0.00371747, 0.99628253])], '3p': ['agent_1', array([0.0768969, 0.9231031])], '3pb': ['agent_2', array([0.00371747, 0.99628253])], '3pbb': ['agent_0', array([0.00312904, 0.99687096])], '3pbp': ['agent_0', array([0.00312904, 0.99687096])], '3pp': ['agent_2', array([0.00371747, 0.99628253])], '3ppb': ['agent_0', array([0.00425091, 0.99574909])], '3ppbb': ['agent_1', array([0.04992059, 0.95007941])], '3ppbp': ['agent_1', array([0.04992059, 0.95007941])]}\n",
      "{'0': ['agent_0', array([0.91800445, 0.08199555])], '0b': ['agent_1', array([0.99578059, 0.00421941])], '0bb': ['agent_2', array([0.99603175, 0.00396825])], '0bp': ['agent_2', array([0.99603175, 0.00396825])], '0p': ['agent_1', array([0.74514655, 0.25485345])], '0pb': ['agent_2', array([0.99603175, 0.00396825])], '0pbb': ['agent_0', array([0.99693489, 0.00306511])], '0pbp': ['agent_0', array([0.99693489, 0.00306511])], '0pp': ['agent_2', array([0.8124174, 0.1875826])], '0ppb': ['agent_0', array([0.99693489, 0.00306511])], '0ppbb': ['agent_1', array([0.98607676, 0.01392324])], '0ppbp': ['agent_1', array([0.98729529, 0.01270471])], '1': ['agent_0', array([0.99142157, 0.00857843])], '1b': ['agent_1', array([0.996139, 0.003861])], '1bb': ['agent_2', array([0.99427481, 0.00572519])], '1bp': ['agent_2', array([0.99618321, 0.00381679])], '1p': ['agent_1', array([0.91400252, 0.08599748])], '1pb': ['agent_2', array([0.99427481, 0.00572519])], '1pbb': ['agent_0', array([0.99703923, 0.00296077])], '1pbp': ['agent_0', array([0.99703923, 0.00296077])], '1pp': ['agent_2', array([0.73988225, 0.26011775])], '1ppb': ['agent_0', array([0.99703923, 0.00296077])], '1ppbb': ['agent_1', array([0.99683847, 0.00316153])], '1ppbp': ['agent_1', array([0.9905154, 0.0094846])], '2': ['agent_0', array([0.98367285, 0.01632715])], '2b': ['agent_1', array([0.75930481, 0.24069519])], '2bb': ['agent_2', array([0.27277323, 0.72722677])], '2bp': ['agent_2', array([0.42564941, 0.57435059])], '2p': ['agent_1', array([0.96852684, 0.03147316])], '2pb': ['agent_2', array([0.96488362, 0.03511638])], '2pbb': ['agent_0', array([0.85558535, 0.14441465])], '2pbp': ['agent_0', array([0.41904829, 0.58095171])], '2pp': ['agent_2', array([0.91094947, 0.08905053])], '2ppb': ['agent_0', array([0.32579544, 0.67420456])], '2ppbb': ['agent_1', array([0.98969439, 0.01030561])], '2ppbp': ['agent_1', array([0.37669591, 0.62330409])], '3': ['agent_0', array([0.73566079, 0.26433921])], '3b': ['agent_1', array([0.00429185, 0.99570815])], '3bb': ['agent_2', array([0.00625, 0.99375])], '3bp': ['agent_2', array([0.00416667, 0.99583333])], '3p': ['agent_1', array([0.11964116, 0.88035884])], '3pb': ['agent_2', array([0.01041667, 0.98958333])], '3pbb': ['agent_0', array([0.0040832, 0.9959168])], '3pbp': ['agent_0', array([0.0040832, 0.9959168])], '3pp': ['agent_2', array([0.01041667, 0.98958333])], '3ppb': ['agent_0', array([0.0040832, 0.9959168])], '3ppbb': ['agent_1', array([0.05286085, 0.94713915])], '3ppbp': ['agent_1', array([0.05286085, 0.94713915])]}\n"
     ]
    }
   ],
   "source": [
    "game.reset()\n",
    "for agent in range(game.num_agents):\n",
    "    print(agents[game.agents[agent]].policy())"
   ]
  }
 ],
 "metadata": {
  "kernelspec": {
   "display_name": "Python 3",
   "language": "python",
   "name": "python3"
  },
  "language_info": {
   "codemirror_mode": {
    "name": "ipython",
    "version": 3
   },
   "file_extension": ".py",
   "mimetype": "text/x-python",
   "name": "python",
   "nbconvert_exporter": "python",
   "pygments_lexer": "ipython3",
   "version": "3.11.5"
  },
  "orig_nbformat": 4
 },
 "nbformat": 4,
 "nbformat_minor": 2
}
