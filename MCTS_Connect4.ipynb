{
 "cells": [
  {
   "cell_type": "code",
   "execution_count": 10,
   "metadata": {},
   "outputs": [
    {
     "name": "stdout",
     "output_type": "stream",
     "text": [
      "The autoreload extension is already loaded. To reload it, use:\n",
      "  %reload_ext autoreload\n"
     ]
    }
   ],
   "source": [
    "%load_ext autoreload\n",
    "%autoreload 2\n",
    "\n",
    "from games.connect4 import Connect4\n",
    "from agents.agent_random import RandomAgent\n",
    "from agents.mcts_t import MonteCarloTreeSearch\n",
    "from base.utils import play, run\n",
    "import numpy as np"
   ]
  },
  {
   "cell_type": "code",
   "execution_count": 18,
   "metadata": {},
   "outputs": [],
   "source": [
    "game = Connect4()"
   ]
  },
  {
   "cell_type": "code",
   "execution_count": 16,
   "metadata": {},
   "outputs": [
    {
     "name": "stdout",
     "output_type": "stream",
     "text": [
      "{'player_0': -1, 'player_1': 1}\n"
     ]
    }
   ],
   "source": [
    "agents = dict(map(lambda agent: (agent, RandomAgent(game=game, agent=agent)), game.agents))\n",
    "play(game=game, agents=agents)"
   ]
  },
  {
   "cell_type": "code",
   "execution_count": 19,
   "metadata": {},
   "outputs": [
    {
     "ename": "AssertionError",
     "evalue": "played illegal move.",
     "output_type": "error",
     "traceback": [
      "\u001b[0;31m---------------------------------------------------------------------------\u001b[0m",
      "\u001b[0;31mAssertionError\u001b[0m                            Traceback (most recent call last)",
      "\u001b[1;32m/Users/fazzato/Downloads/MA/AlternatingGames/MCTS_Connect4.ipynb Cell 4\u001b[0m line \u001b[0;36m2\n\u001b[1;32m      <a href='vscode-notebook-cell:/Users/fazzato/Downloads/MA/AlternatingGames/MCTS_Connect4.ipynb#W4sZmlsZQ%3D%3D?line=0'>1</a>\u001b[0m agents[game\u001b[39m.\u001b[39magents[\u001b[39m0\u001b[39m]] \u001b[39m=\u001b[39m MonteCarloTreeSearch(game\u001b[39m=\u001b[39mgame, agent\u001b[39m=\u001b[39mgame\u001b[39m.\u001b[39magents[\u001b[39m0\u001b[39m])\n\u001b[0;32m----> <a href='vscode-notebook-cell:/Users/fazzato/Downloads/MA/AlternatingGames/MCTS_Connect4.ipynb#W4sZmlsZQ%3D%3D?line=1'>2</a>\u001b[0m play(game\u001b[39m=\u001b[39;49mgame, agents\u001b[39m=\u001b[39;49magents)\n",
      "File \u001b[0;32m~/Downloads/MA/AlternatingGames/base/utils.py:9\u001b[0m, in \u001b[0;36mplay\u001b[0;34m(game, agents)\u001b[0m\n\u001b[1;32m      7\u001b[0m game\u001b[39m.\u001b[39mrender()\n\u001b[1;32m      8\u001b[0m \u001b[39mwhile\u001b[39;00m \u001b[39mnot\u001b[39;00m game\u001b[39m.\u001b[39mterminated():\n\u001b[0;32m----> 9\u001b[0m     action \u001b[39m=\u001b[39m agents[game\u001b[39m.\u001b[39;49magent_selection]\u001b[39m.\u001b[39;49maction()\n\u001b[1;32m     10\u001b[0m     game\u001b[39m.\u001b[39mstep(action)\n\u001b[1;32m     11\u001b[0m game\u001b[39m.\u001b[39mrender()\n",
      "File \u001b[0;32m~/Downloads/MA/AlternatingGames/agents/mcts_t.py:44\u001b[0m, in \u001b[0;36mMonteCarloTreeSearch.action\u001b[0;34m(self)\u001b[0m\n\u001b[1;32m     43\u001b[0m \u001b[39mdef\u001b[39;00m \u001b[39maction\u001b[39m(\u001b[39mself\u001b[39m) \u001b[39m-\u001b[39m\u001b[39m>\u001b[39m ActionType:\n\u001b[0;32m---> 44\u001b[0m     a, _ \u001b[39m=\u001b[39m \u001b[39mself\u001b[39;49m\u001b[39m.\u001b[39;49mmcts()\n\u001b[1;32m     45\u001b[0m     \u001b[39mreturn\u001b[39;00m a\n",
      "File \u001b[0;32m~/Downloads/MA/AlternatingGames/agents/mcts_t.py:69\u001b[0m, in \u001b[0;36mMonteCarloTreeSearch.mcts\u001b[0;34m(self)\u001b[0m\n\u001b[1;32m     65\u001b[0m \u001b[39mself\u001b[39m\u001b[39m.\u001b[39mexpand_node(node)\n\u001b[1;32m     67\u001b[0m \u001b[39m# rollout\u001b[39;00m\n\u001b[1;32m     68\u001b[0m \u001b[39m#print('rollout')\u001b[39;00m\n\u001b[0;32m---> 69\u001b[0m rewards \u001b[39m=\u001b[39m \u001b[39mself\u001b[39;49m\u001b[39m.\u001b[39;49mrollout(node)\n\u001b[1;32m     71\u001b[0m \u001b[39m#update values / Backprop\u001b[39;00m\n\u001b[1;32m     72\u001b[0m \u001b[39m#print('backprop')\u001b[39;00m\n\u001b[1;32m     73\u001b[0m \u001b[39mself\u001b[39m\u001b[39m.\u001b[39mbackprop(node, rewards)\n",
      "File \u001b[0;32m~/Downloads/MA/AlternatingGames/agents/mcts_t.py:99\u001b[0m, in \u001b[0;36mMonteCarloTreeSearch.rollout\u001b[0;34m(self, node)\u001b[0m\n\u001b[1;32m     97\u001b[0m \u001b[39mwhile\u001b[39;00m \u001b[39mnot\u001b[39;00m cloned_game\u001b[39m.\u001b[39mterminated():\n\u001b[1;32m     98\u001b[0m     action \u001b[39m=\u001b[39m cloned_game\u001b[39m.\u001b[39maction_space(cloned_game\u001b[39m.\u001b[39magent_selection)\u001b[39m.\u001b[39msample()\n\u001b[0;32m---> 99\u001b[0m     cloned_game\u001b[39m.\u001b[39;49mstep(action)\n\u001b[1;32m    101\u001b[0m \u001b[39mfor\u001b[39;00m agent \u001b[39min\u001b[39;00m cloned_game\u001b[39m.\u001b[39magents:\n\u001b[1;32m    102\u001b[0m     rewards[cloned_game\u001b[39m.\u001b[39magent_name_mapping[agent]] \u001b[39m+\u001b[39m\u001b[39m=\u001b[39m cloned_game\u001b[39m.\u001b[39mreward(agent)\n",
      "File \u001b[0;32m~/Downloads/MA/AlternatingGames/games/connect4.py:47\u001b[0m, in \u001b[0;36mConnect4.step\u001b[0;34m(self, action)\u001b[0m\n\u001b[1;32m     45\u001b[0m \u001b[39mdef\u001b[39;00m \u001b[39mstep\u001b[39m(\u001b[39mself\u001b[39m, action: ActionType) \u001b[39m-\u001b[39m\u001b[39m>\u001b[39m \u001b[39mNone\u001b[39;00m:\n\u001b[1;32m     46\u001b[0m     \u001b[39mself\u001b[39m\u001b[39m.\u001b[39mplayed_actions\u001b[39m.\u001b[39mappend(action)\n\u001b[0;32m---> 47\u001b[0m     \u001b[39mself\u001b[39;49m\u001b[39m.\u001b[39;49menv\u001b[39m.\u001b[39;49mstep(action)\n\u001b[1;32m     48\u001b[0m     \u001b[39mself\u001b[39m\u001b[39m.\u001b[39m_update()\n",
      "File \u001b[0;32m~/Downloads/MA/AlternatingGames/.conda/lib/python3.11/site-packages/pettingzoo/classic/connect_four/connect_four.py:176\u001b[0m, in \u001b[0;36mraw_env.step\u001b[0;34m(self, action)\u001b[0m\n\u001b[1;32m    174\u001b[0m     \u001b[39mreturn\u001b[39;00m \u001b[39mself\u001b[39m\u001b[39m.\u001b[39m_was_dead_step(action)\n\u001b[1;32m    175\u001b[0m \u001b[39m# assert valid move\u001b[39;00m\n\u001b[0;32m--> 176\u001b[0m \u001b[39massert\u001b[39;00m \u001b[39mself\u001b[39m\u001b[39m.\u001b[39mboard[\u001b[39m0\u001b[39m:\u001b[39m7\u001b[39m][action] \u001b[39m==\u001b[39m \u001b[39m0\u001b[39m, \u001b[39m\"\u001b[39m\u001b[39mplayed illegal move.\u001b[39m\u001b[39m\"\u001b[39m\n\u001b[1;32m    178\u001b[0m piece \u001b[39m=\u001b[39m \u001b[39mself\u001b[39m\u001b[39m.\u001b[39magents\u001b[39m.\u001b[39mindex(\u001b[39mself\u001b[39m\u001b[39m.\u001b[39magent_selection) \u001b[39m+\u001b[39m \u001b[39m1\u001b[39m\n\u001b[1;32m    179\u001b[0m \u001b[39mfor\u001b[39;00m i \u001b[39min\u001b[39;00m \u001b[39mlist\u001b[39m(\u001b[39mfilter\u001b[39m(\u001b[39mlambda\u001b[39;00m x: x \u001b[39m%\u001b[39m \u001b[39m7\u001b[39m \u001b[39m==\u001b[39m action, \u001b[39mlist\u001b[39m(\u001b[39mrange\u001b[39m(\u001b[39m41\u001b[39m, \u001b[39m-\u001b[39m\u001b[39m1\u001b[39m, \u001b[39m-\u001b[39m\u001b[39m1\u001b[39m)))):\n",
      "\u001b[0;31mAssertionError\u001b[0m: played illegal move."
     ]
    }
   ],
   "source": [
    "agents[game.agents[0]] = MonteCarloTreeSearch(game=game, agent=game.agents[0])\n",
    "play(game=game, agents=agents)"
   ]
  },
  {
   "cell_type": "code",
   "execution_count": 5,
   "metadata": {},
   "outputs": [
    {
     "name": "stdout",
     "output_type": "stream",
     "text": [
      "agent_0 Q \n",
      "agent_1 K \n",
      "agent_0 Q pp\n",
      "agent_1 K pp\n",
      "{'agent_0': -1, 'agent_1': 1}\n"
     ]
    }
   ],
   "source": [
    "agents[game.agents[1]] = MonteCarloTreeSearch(game=game, agent=game.agents[1])\n",
    "play(game=game, agents=agents)"
   ]
  },
  {
   "cell_type": "code",
   "execution_count": 6,
   "metadata": {},
   "outputs": [
    {
     "data": {
      "text/plain": [
       "({-1: 48, 1: 52}, 0.04)"
      ]
     },
     "execution_count": 6,
     "metadata": {},
     "output_type": "execute_result"
    }
   ],
   "source": [
    "run(game=game, agents=agents)"
   ]
  },
  {
   "cell_type": "code",
   "execution_count": 7,
   "metadata": {},
   "outputs": [
    {
     "name": "stdout",
     "output_type": "stream",
     "text": [
      "None\n",
      "None\n"
     ]
    }
   ],
   "source": [
    "game.reset()\n",
    "for agent in range(game.num_agents):\n",
    "    print(agents[game.agents[agent]].policy())"
   ]
  }
 ],
 "metadata": {
  "kernelspec": {
   "display_name": "Python 3",
   "language": "python",
   "name": "python3"
  },
  "language_info": {
   "codemirror_mode": {
    "name": "ipython",
    "version": 3
   },
   "file_extension": ".py",
   "mimetype": "text/x-python",
   "name": "python",
   "nbconvert_exporter": "python",
   "pygments_lexer": "ipython3",
   "version": "3.11.5"
  },
  "orig_nbformat": 4
 },
 "nbformat": 4,
 "nbformat_minor": 2
}
