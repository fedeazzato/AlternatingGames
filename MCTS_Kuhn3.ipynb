{
 "cells": [
  {
   "cell_type": "code",
   "execution_count": 1,
   "metadata": {},
   "outputs": [],
   "source": [
    "%load_ext autoreload\n",
    "%autoreload 2\n",
    "\n",
    "from games.kuhn3 import KuhnPoker3\n",
    "from agents.agent_random import RandomAgent\n",
    "from agents.mcts_t import MonteCarloTreeSearch\n",
    "from base.utils import play, run\n",
    "import numpy as np"
   ]
  },
  {
   "cell_type": "code",
   "execution_count": 2,
   "metadata": {},
   "outputs": [],
   "source": [
    "game = KuhnPoker3()"
   ]
  },
  {
   "cell_type": "code",
   "execution_count": 3,
   "metadata": {},
   "outputs": [
    {
     "name": "stdout",
     "output_type": "stream",
     "text": [
      "agent_0 K \n",
      "agent_1 Q \n",
      "agent_2 A \n",
      "agent_0 K bpb\n",
      "agent_1 Q bpb\n",
      "agent_2 A bpb\n",
      "{'agent_0': -2, 'agent_1': -1, 'agent_2': 3}\n"
     ]
    }
   ],
   "source": [
    "agents = dict(map(lambda agent: (agent, RandomAgent(game=game, agent=agent)), game.agents))\n",
    "play(game=game, agents=agents)"
   ]
  },
  {
   "cell_type": "code",
   "execution_count": 4,
   "metadata": {},
   "outputs": [
    {
     "name": "stdout",
     "output_type": "stream",
     "text": [
      "agent_0 J \n",
      "agent_1 A \n",
      "agent_2 Q \n",
      "agent_0 J ppbpp\n",
      "agent_1 A ppbpp\n",
      "agent_2 Q ppbpp\n",
      "{'agent_0': -1, 'agent_1': -1, 'agent_2': 2}\n"
     ]
    }
   ],
   "source": [
    "agents[game.agents[0]] = MonteCarloTreeSearch(game=game, agent=game.agents[0])\n",
    "play(game=game, agents=agents)"
   ]
  },
  {
   "cell_type": "code",
   "execution_count": 5,
   "metadata": {},
   "outputs": [
    {
     "name": "stdout",
     "output_type": "stream",
     "text": [
      "agent_0 A \n",
      "agent_1 J \n",
      "agent_2 K \n",
      "agent_0 A bbp\n",
      "agent_1 J bbp\n",
      "agent_2 K bbp\n",
      "{'agent_0': 3, 'agent_1': -2, 'agent_2': -1}\n"
     ]
    }
   ],
   "source": [
    "agents[game.agents[1]] = MonteCarloTreeSearch(game=game, agent=game.agents[1])\n",
    "play(game=game, agents=agents)"
   ]
  },
  {
   "cell_type": "code",
   "execution_count": 6,
   "metadata": {},
   "outputs": [
    {
     "name": "stdout",
     "output_type": "stream",
     "text": [
      "agent_0 Q \n",
      "agent_1 A \n",
      "agent_2 J \n",
      "agent_0 Q pbpb\n",
      "agent_1 A pbpb\n",
      "agent_2 J pbpb\n",
      "{'agent_0': -2, 'agent_1': 3, 'agent_2': -1}\n"
     ]
    }
   ],
   "source": [
    "agents[game.agents[2]] = MonteCarloTreeSearch(game=game, agent=game.agents[2])\n",
    "play(game=game, agents=agents)"
   ]
  },
  {
   "cell_type": "code",
   "execution_count": 7,
   "metadata": {},
   "outputs": [
    {
     "data": {
      "text/plain": [
       "({-2: 35, -1: 36, 2: 20, 3: 4, 4: 5}, -0.34)"
      ]
     },
     "execution_count": 7,
     "metadata": {},
     "output_type": "execute_result"
    }
   ],
   "source": [
    "run(game=game, agents=agents)"
   ]
  }
 ],
 "metadata": {
  "kernelspec": {
   "display_name": "Python 3",
   "language": "python",
   "name": "python3"
  },
  "language_info": {
   "codemirror_mode": {
    "name": "ipython",
    "version": 3
   },
   "file_extension": ".py",
   "mimetype": "text/x-python",
   "name": "python",
   "nbconvert_exporter": "python",
   "pygments_lexer": "ipython3",
   "version": "3.11.5"
  },
  "orig_nbformat": 4
 },
 "nbformat": 4,
 "nbformat_minor": 2
}
