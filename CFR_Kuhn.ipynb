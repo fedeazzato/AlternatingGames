{
 "cells": [
  {
   "cell_type": "code",
   "execution_count": 2,
   "metadata": {},
   "outputs": [],
   "source": [
    "%load_ext autoreload\n",
    "%autoreload 2\n",
    "\n",
    "from games.kuhn import KuhnPoker\n",
    "from agents.agent_random import RandomAgent\n",
    "from agents.counterfactualregret import CounterFactualRegret\n",
    "from base.utils import play, run\n",
    "import numpy as np"
   ]
  },
  {
   "cell_type": "code",
   "execution_count": 3,
   "metadata": {},
   "outputs": [],
   "source": [
    "game = KuhnPoker()"
   ]
  },
  {
   "cell_type": "code",
   "execution_count": 4,
   "metadata": {},
   "outputs": [
    {
     "name": "stdout",
     "output_type": "stream",
     "text": [
      "agent_0 K \n",
      "agent_1 J \n",
      "agent_0 K bb\n",
      "agent_1 J bb\n",
      "{'agent_0': 2, 'agent_1': -2}\n"
     ]
    }
   ],
   "source": [
    "agents = dict(map(lambda agent: (agent, RandomAgent(game=game, agent=agent)), game.agents))\n",
    "play(game=game, agents=agents)"
   ]
  },
  {
   "cell_type": "code",
   "execution_count": 5,
   "metadata": {},
   "outputs": [
    {
     "name": "stdout",
     "output_type": "stream",
     "text": [
      "agent_0 K \n",
      "agent_1 J \n",
      "agent_0 K bp\n",
      "agent_1 J bp\n",
      "{'agent_0': 1, 'agent_1': -1}\n"
     ]
    }
   ],
   "source": [
    "cfr_agent = CounterFactualRegret(game=game, agent=game.agents[0])\n",
    "cfr_agent.train()\n",
    "agents[game.agents[0]] = cfr_agent\n",
    "play(game=game, agents=agents)"
   ]
  },
  {
   "cell_type": "code",
   "execution_count": 6,
   "metadata": {},
   "outputs": [
    {
     "name": "stdout",
     "output_type": "stream",
     "text": [
      "agent_0 K \n",
      "agent_1 Q \n",
      "agent_0 K bb\n",
      "agent_1 Q bb\n",
      "{'agent_0': 2, 'agent_1': -2}\n"
     ]
    }
   ],
   "source": [
    "play(game=game, agents=agents)"
   ]
  },
  {
   "cell_type": "code",
   "execution_count": 7,
   "metadata": {},
   "outputs": [],
   "source": [
    "cfr_agent = CounterFactualRegret(game=game, agent=game.agents[1])\n",
    "cfr_agent.train()\n",
    "agents[game.agents[1]] = cfr_agent"
   ]
  },
  {
   "cell_type": "code",
   "execution_count": 8,
   "metadata": {},
   "outputs": [
    {
     "name": "stdout",
     "output_type": "stream",
     "text": [
      "agent_0 J \n",
      "agent_1 Q \n",
      "agent_0 J pp\n",
      "agent_1 Q pp\n",
      "{'agent_0': -1, 'agent_1': 1}\n"
     ]
    }
   ],
   "source": [
    "play(game=game, agents=agents)"
   ]
  },
  {
   "cell_type": "code",
   "execution_count": 9,
   "metadata": {},
   "outputs": [
    {
     "data": {
      "text/plain": [
       "({-2: 20, -1: 24, 1: 45, 2: 11}, 0.03)"
      ]
     },
     "execution_count": 9,
     "metadata": {},
     "output_type": "execute_result"
    }
   ],
   "source": [
    "run(game=game, agents=agents)"
   ]
  },
  {
   "cell_type": "code",
   "execution_count": 10,
   "metadata": {},
   "outputs": [
    {
     "name": "stdout",
     "output_type": "stream",
     "text": [
      "{'0': ['agent_0', array([0.72620055, 0.27379945])], '0b': ['agent_1', array([0.99693252, 0.00306748])], '0p': ['agent_1', array([0.56038276, 0.43961724])], '0pb': ['agent_0', array([0.99708823, 0.00291177])], '1': ['agent_0', array([0.99680511, 0.00319489])], '1b': ['agent_1', array([0.66597828, 0.33402172])], '1p': ['agent_1', array([0.99455041, 0.00544959])], '1pb': ['agent_0', array([0.33434711, 0.66565289])], '2': ['agent_0', array([0.30523128, 0.69476872])], '2b': ['agent_1', array([0.00322581, 0.99677419])], '2p': ['agent_1', array([0.00322581, 0.99677419])], '2pb': ['agent_0', array([0.00727748, 0.99272252])]}\n",
      "{'0': ['agent_0', array([0.74149265, 0.25850735])], '0b': ['agent_1', array([0.99673203, 0.00326797])], '0p': ['agent_1', array([0.77525989, 0.22474011])], '0pb': ['agent_0', array([0.99696868, 0.00303132])], '1': ['agent_0', array([0.96981522, 0.03018478])], '1b': ['agent_1', array([0.57734863, 0.42265137])], '1p': ['agent_1', array([0.99404762, 0.00595238])], '1pb': ['agent_0', array([0.33213075, 0.66786925])], '2': ['agent_0', array([0.12439531, 0.87560469])], '2b': ['agent_1', array([0.00277008, 0.99722992])], '2p': ['agent_1', array([0.00554017, 0.99445983])], '2pb': ['agent_0', array([0.01815908, 0.98184092])]}\n"
     ]
    }
   ],
   "source": [
    "game.reset()\n",
    "for agent in range(game.num_agents):\n",
    "    print(agents[game.agents[agent]].policy())"
   ]
  }
 ],
 "metadata": {
  "kernelspec": {
   "display_name": "Python 3",
   "language": "python",
   "name": "python3"
  },
  "language_info": {
   "codemirror_mode": {
    "name": "ipython",
    "version": 3
   },
   "file_extension": ".py",
   "mimetype": "text/x-python",
   "name": "python",
   "nbconvert_exporter": "python",
   "pygments_lexer": "ipython3",
   "version": "3.11.5"
  },
  "orig_nbformat": 4
 },
 "nbformat": 4,
 "nbformat_minor": 2
}
