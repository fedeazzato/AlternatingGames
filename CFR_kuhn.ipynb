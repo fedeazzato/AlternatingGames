{
 "cells": [
  {
   "cell_type": "code",
   "execution_count": 38,
   "metadata": {},
   "outputs": [
    {
     "name": "stdout",
     "output_type": "stream",
     "text": [
      "The autoreload extension is already loaded. To reload it, use:\n",
      "  %reload_ext autoreload\n"
     ]
    }
   ],
   "source": [
    "%load_ext autoreload\n",
    "%autoreload 2\n",
    "\n",
    "from games.kuhn import KuhnPoker\n",
    "from agents.agent_random import RandomAgent\n",
    "from agents.counterfactualregret import CounterFactualRegret\n",
    "from base.utils import play, run\n",
    "import numpy as np"
   ]
  },
  {
   "cell_type": "code",
   "execution_count": 39,
   "metadata": {},
   "outputs": [],
   "source": [
    "game = KuhnPoker()"
   ]
  },
  {
   "cell_type": "code",
   "execution_count": 40,
   "metadata": {},
   "outputs": [
    {
     "name": "stdout",
     "output_type": "stream",
     "text": [
      "agent_0 K \n",
      "agent_1 Q \n",
      "agent_0 K pbb\n",
      "agent_1 Q pbb\n",
      "{'agent_0': 2, 'agent_1': -2}\n"
     ]
    }
   ],
   "source": [
    "agents = dict(map(lambda agent: (agent, RandomAgent(game=game, agent=agent)), game.agents))\n",
    "play(game=game, agents=agents)"
   ]
  },
  {
   "cell_type": "code",
   "execution_count": 41,
   "metadata": {},
   "outputs": [
    {
     "name": "stdout",
     "output_type": "stream",
     "text": [
      "agent_0 K \n",
      "agent_1 J \n",
      "agent_0 K bp\n",
      "agent_1 J bp\n",
      "{'agent_0': 1, 'agent_1': -1}\n"
     ]
    }
   ],
   "source": [
    "cfr_agent = CounterFactualRegret(game=game, agent=game.agents[0])\n",
    "cfr_agent.train()\n",
    "agents[game.agents[0]] = cfr_agent\n",
    "play(game=game, agents=agents)"
   ]
  },
  {
   "cell_type": "code",
   "execution_count": 42,
   "metadata": {},
   "outputs": [
    {
     "name": "stdout",
     "output_type": "stream",
     "text": [
      "agent_0 J \n",
      "agent_1 Q \n",
      "agent_0 J pp\n",
      "agent_1 Q pp\n",
      "{'agent_0': -1, 'agent_1': 1}\n"
     ]
    }
   ],
   "source": [
    "play(game=game, agents=agents)"
   ]
  },
  {
   "cell_type": "code",
   "execution_count": 43,
   "metadata": {},
   "outputs": [],
   "source": [
    "cfr_agent = CounterFactualRegret(game=game, agent=game.agents[1])\n",
    "cfr_agent.train()\n",
    "agents[game.agents[1]] = cfr_agent"
   ]
  },
  {
   "cell_type": "code",
   "execution_count": 44,
   "metadata": {},
   "outputs": [
    {
     "name": "stdout",
     "output_type": "stream",
     "text": [
      "agent_0 J \n",
      "agent_1 K \n",
      "agent_0 J pbp\n",
      "agent_1 K pbp\n",
      "{'agent_0': -1, 'agent_1': 1}\n"
     ]
    }
   ],
   "source": [
    "play(game=game, agents=agents)"
   ]
  },
  {
   "cell_type": "code",
   "execution_count": 45,
   "metadata": {},
   "outputs": [
    {
     "name": "stdout",
     "output_type": "stream",
     "text": [
      "[0.5 0.5]\n",
      "[0.5 0.5]\n"
     ]
    }
   ],
   "source": [
    "game.reset()\n",
    "for agent in range(game.num_agents):\n",
    "    print(agents[game.agents[agent]].policy())\n"
   ]
  }
 ],
 "metadata": {
  "kernelspec": {
   "display_name": "Python 3",
   "language": "python",
   "name": "python3"
  },
  "language_info": {
   "codemirror_mode": {
    "name": "ipython",
    "version": 3
   },
   "file_extension": ".py",
   "mimetype": "text/x-python",
   "name": "python",
   "nbconvert_exporter": "python",
   "pygments_lexer": "ipython3",
   "version": "3.11.5"
  },
  "orig_nbformat": 4
 },
 "nbformat": 4,
 "nbformat_minor": 2
}
