{
 "cells": [
  {
   "cell_type": "code",
   "execution_count": 1,
   "metadata": {},
   "outputs": [],
   "source": [
    "from games.kuhn import KuhnPoker\n",
    "from agents.agent_random import RandomAgent\n",
    "from agents.counterfactualregret import CounterFactualRegret\n",
    "from base.utils import play, run\n",
    "import numpy as np"
   ]
  },
  {
   "cell_type": "code",
   "execution_count": 2,
   "metadata": {},
   "outputs": [],
   "source": [
    "game = KuhnPoker()"
   ]
  },
  {
   "cell_type": "code",
   "execution_count": 20,
   "metadata": {},
   "outputs": [
    {
     "name": "stdout",
     "output_type": "stream",
     "text": [
      "agent_0 K \n",
      "agent_1 J \n",
      "agent_0 K pbp\n",
      "agent_1 J pbp\n",
      "{'agent_0': -1, 'agent_1': 1}\n"
     ]
    }
   ],
   "source": [
    "agents = dict(map(lambda agent: (agent, RandomAgent(game=game, agent=agent)), game.agents))\n",
    "play(game=game, agents=agents)"
   ]
  },
  {
   "cell_type": "code",
   "execution_count": 6,
   "metadata": {},
   "outputs": [
    {
     "ename": "TypeError",
     "evalue": "CounterFactualRegret.__init__() got an unexpected keyword argument 'depth'",
     "output_type": "error",
     "traceback": [
      "\u001b[0;31m---------------------------------------------------------------------------\u001b[0m",
      "\u001b[0;31mTypeError\u001b[0m                                 Traceback (most recent call last)",
      "\u001b[1;32m/Users/fazzato/Downloads/MA/AlternatingGames/CFR_kuhn.ipynb Cell 4\u001b[0m line \u001b[0;36m1\n\u001b[0;32m----> <a href='vscode-notebook-cell:/Users/fazzato/Downloads/MA/AlternatingGames/CFR_kuhn.ipynb#W4sZmlsZQ%3D%3D?line=0'>1</a>\u001b[0m agents[game\u001b[39m.\u001b[39magents[\u001b[39m0\u001b[39m]] \u001b[39m=\u001b[39m CounterFactualRegret(game\u001b[39m=\u001b[39;49mgame, agent\u001b[39m=\u001b[39;49mgame\u001b[39m.\u001b[39;49magents[\u001b[39m0\u001b[39;49m], depth\u001b[39m=\u001b[39;49m\u001b[39m2\u001b[39;49m)\n\u001b[1;32m      <a href='vscode-notebook-cell:/Users/fazzato/Downloads/MA/AlternatingGames/CFR_kuhn.ipynb#W4sZmlsZQ%3D%3D?line=1'>2</a>\u001b[0m run(game\u001b[39m=\u001b[39mgame, agents\u001b[39m=\u001b[39magents)\n",
      "\u001b[0;31mTypeError\u001b[0m: CounterFactualRegret.__init__() got an unexpected keyword argument 'depth'"
     ]
    }
   ],
   "source": [
    "agents[game.agents[0]] = CounterFactualRegret(game=game, agent=game.agents[0], depth=2)\n",
    "run(game=game, agents=agents)"
   ]
  },
  {
   "cell_type": "code",
   "execution_count": 7,
   "metadata": {},
   "outputs": [
    {
     "ename": "ValueError",
     "evalue": "Train agent before calling action()",
     "output_type": "error",
     "traceback": [
      "\u001b[0;31m---------------------------------------------------------------------------\u001b[0m",
      "\u001b[0;31mKeyError\u001b[0m                                  Traceback (most recent call last)",
      "File \u001b[0;32m~/Downloads/MA/AlternatingGames/agents/counterfactualregret.py:28\u001b[0m, in \u001b[0;36mCounterFactualRegret.action\u001b[0;34m(self)\u001b[0m\n\u001b[1;32m     27\u001b[0m \u001b[39mtry\u001b[39;00m:\n\u001b[0;32m---> 28\u001b[0m     node \u001b[39m=\u001b[39m \u001b[39mself\u001b[39;49m\u001b[39m.\u001b[39;49mnode_dict[\u001b[39mself\u001b[39;49m\u001b[39m.\u001b[39;49mgame\u001b[39m.\u001b[39;49mobserve(\u001b[39mself\u001b[39;49m\u001b[39m.\u001b[39;49magent)]\n\u001b[1;32m     29\u001b[0m     a \u001b[39m=\u001b[39m np\u001b[39m.\u001b[39margmax(np\u001b[39m.\u001b[39mrandom\u001b[39m.\u001b[39mmultinomial(\u001b[39m1\u001b[39m, node\u001b[39m.\u001b[39mpolicy(), size\u001b[39m=\u001b[39m\u001b[39m1\u001b[39m))\n",
      "\u001b[0;31mKeyError\u001b[0m: '1'",
      "\nDuring handling of the above exception, another exception occurred:\n",
      "\u001b[0;31mValueError\u001b[0m                                Traceback (most recent call last)",
      "\u001b[1;32m/Users/fazzato/Downloads/MA/AlternatingGames/CFR_kuhn.ipynb Cell 5\u001b[0m line \u001b[0;36m2\n\u001b[1;32m      <a href='vscode-notebook-cell:/Users/fazzato/Downloads/MA/AlternatingGames/CFR_kuhn.ipynb#W5sZmlsZQ%3D%3D?line=0'>1</a>\u001b[0m agents \u001b[39m=\u001b[39m \u001b[39mdict\u001b[39m(\u001b[39mmap\u001b[39m(\u001b[39mlambda\u001b[39;00m agent: (agent, CounterFactualRegret(game\u001b[39m=\u001b[39mgame, agent\u001b[39m=\u001b[39magent)), game\u001b[39m.\u001b[39magents))\n\u001b[0;32m----> <a href='vscode-notebook-cell:/Users/fazzato/Downloads/MA/AlternatingGames/CFR_kuhn.ipynb#W5sZmlsZQ%3D%3D?line=1'>2</a>\u001b[0m run(game\u001b[39m=\u001b[39;49mgame, agents\u001b[39m=\u001b[39;49magents)\n",
      "File \u001b[0;32m~/Downloads/MA/AlternatingGames/base/utils.py:19\u001b[0m, in \u001b[0;36mrun\u001b[0;34m(game, agents, N)\u001b[0m\n\u001b[1;32m     17\u001b[0m game\u001b[39m.\u001b[39mreset()\n\u001b[1;32m     18\u001b[0m \u001b[39mwhile\u001b[39;00m \u001b[39mnot\u001b[39;00m game\u001b[39m.\u001b[39mterminated():\n\u001b[0;32m---> 19\u001b[0m     action \u001b[39m=\u001b[39m agents[game\u001b[39m.\u001b[39;49magent_selection]\u001b[39m.\u001b[39;49maction()\n\u001b[1;32m     20\u001b[0m     game\u001b[39m.\u001b[39mstep(action)\n\u001b[1;32m     21\u001b[0m values\u001b[39m.\u001b[39mappend(game\u001b[39m.\u001b[39mreward(game\u001b[39m.\u001b[39magents[\u001b[39m0\u001b[39m]))\n",
      "File \u001b[0;32m~/Downloads/MA/AlternatingGames/agents/counterfactualregret.py:32\u001b[0m, in \u001b[0;36mCounterFactualRegret.action\u001b[0;34m(self)\u001b[0m\n\u001b[1;32m     30\u001b[0m     \u001b[39mreturn\u001b[39;00m a\n\u001b[1;32m     31\u001b[0m \u001b[39mexcept\u001b[39;00m:\n\u001b[0;32m---> 32\u001b[0m     \u001b[39mraise\u001b[39;00m \u001b[39mValueError\u001b[39;00m(\u001b[39m'\u001b[39m\u001b[39mTrain agent before calling action()\u001b[39m\u001b[39m'\u001b[39m)\n",
      "\u001b[0;31mValueError\u001b[0m: Train agent before calling action()"
     ]
    }
   ],
   "source": [
    "agents = dict(map(lambda agent: (agent, CounterFactualRegret(game=game, agent=agent)), game.agents))\n",
    "run(game=game, agents=agents)"
   ]
  },
  {
   "cell_type": "code",
   "execution_count": null,
   "metadata": {},
   "outputs": [],
   "source": []
  }
 ],
 "metadata": {
  "kernelspec": {
   "display_name": "Python 3",
   "language": "python",
   "name": "python3"
  },
  "language_info": {
   "codemirror_mode": {
    "name": "ipython",
    "version": 3
   },
   "file_extension": ".py",
   "mimetype": "text/x-python",
   "name": "python",
   "nbconvert_exporter": "python",
   "pygments_lexer": "ipython3",
   "version": "3.11.5"
  },
  "orig_nbformat": 4
 },
 "nbformat": 4,
 "nbformat_minor": 2
}
