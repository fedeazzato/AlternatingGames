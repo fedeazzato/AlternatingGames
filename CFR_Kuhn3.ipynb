{
 "cells": [
  {
   "cell_type": "code",
   "execution_count": 9,
   "metadata": {},
   "outputs": [
    {
     "name": "stdout",
     "output_type": "stream",
     "text": [
      "The autoreload extension is already loaded. To reload it, use:\n",
      "  %reload_ext autoreload\n"
     ]
    }
   ],
   "source": [
    "%load_ext autoreload\n",
    "%autoreload 2\n",
    "\n",
    "from games.kuhn3 import KuhnPoker3\n",
    "from agents.agent_random import RandomAgent\n",
    "from agents.counterfactualregret import CounterFactualRegret\n",
    "from base.utils import play, run\n",
    "import numpy as np"
   ]
  },
  {
   "cell_type": "code",
   "execution_count": 10,
   "metadata": {},
   "outputs": [],
   "source": [
    "game = KuhnPoker3()"
   ]
  },
  {
   "cell_type": "code",
   "execution_count": 11,
   "metadata": {},
   "outputs": [
    {
     "name": "stdout",
     "output_type": "stream",
     "text": [
      "agent_0 Q \n",
      "agent_1 A \n",
      "agent_2 K \n",
      "agent_0 Q bbb\n",
      "agent_1 A bbb\n",
      "agent_2 K bbb\n",
      "{'agent_0': -2, 'agent_1': 4, 'agent_2': -2}\n"
     ]
    }
   ],
   "source": [
    "agents = dict(map(lambda agent: (agent, RandomAgent(game=game, agent=agent)), game.agents))\n",
    "play(game=game, agents=agents)"
   ]
  },
  {
   "cell_type": "code",
   "execution_count": 12,
   "metadata": {},
   "outputs": [
    {
     "name": "stdout",
     "output_type": "stream",
     "text": [
      "agent_0 Q \n",
      "agent_1 K \n",
      "agent_2 A \n",
      "agent_0 Q ppp\n",
      "agent_1 K ppp\n",
      "agent_2 A ppp\n",
      "{'agent_0': -1, 'agent_1': -1, 'agent_2': 2}\n"
     ]
    }
   ],
   "source": [
    "cfr_agent = CounterFactualRegret(game=game, agent=game.agents[0])\n",
    "cfr_agent.train()\n",
    "agents[game.agents[0]] = cfr_agent\n",
    "play(game=game, agents=agents)"
   ]
  },
  {
   "cell_type": "code",
   "execution_count": 13,
   "metadata": {},
   "outputs": [
    {
     "name": "stdout",
     "output_type": "stream",
     "text": [
      "agent_0 Q \n",
      "agent_1 K \n",
      "agent_2 J \n",
      "agent_0 Q ppbpb\n",
      "agent_1 K ppbpb\n",
      "agent_2 J ppbpb\n",
      "{'agent_0': -1, 'agent_1': 3, 'agent_2': -2}\n"
     ]
    }
   ],
   "source": [
    "play(game=game, agents=agents)"
   ]
  },
  {
   "cell_type": "code",
   "execution_count": 14,
   "metadata": {},
   "outputs": [],
   "source": [
    "cfr_agent = CounterFactualRegret(game=game, agent=game.agents[1])\n",
    "cfr_agent.train()\n",
    "agents[game.agents[1]] = cfr_agent"
   ]
  },
  {
   "cell_type": "code",
   "execution_count": 15,
   "metadata": {},
   "outputs": [
    {
     "name": "stdout",
     "output_type": "stream",
     "text": [
      "agent_0 K \n",
      "agent_1 A \n",
      "agent_2 Q \n",
      "agent_0 K pbbb\n",
      "agent_1 A pbbb\n",
      "agent_2 Q pbbb\n",
      "{'agent_0': -2, 'agent_1': 4, 'agent_2': -2}\n"
     ]
    }
   ],
   "source": [
    "play(game=game, agents=agents)"
   ]
  },
  {
   "cell_type": "code",
   "execution_count": 16,
   "metadata": {},
   "outputs": [],
   "source": [
    "cfr_agent = CounterFactualRegret(game=game, agent=game.agents[2])\n",
    "cfr_agent.train()\n",
    "agents[game.agents[2]] = cfr_agent"
   ]
  },
  {
   "cell_type": "code",
   "execution_count": 17,
   "metadata": {},
   "outputs": [
    {
     "name": "stdout",
     "output_type": "stream",
     "text": [
      "agent_0 J \n",
      "agent_1 Q \n",
      "agent_2 K \n",
      "agent_0 J ppp\n",
      "agent_1 Q ppp\n",
      "agent_2 K ppp\n",
      "{'agent_0': -1, 'agent_1': -1, 'agent_2': 2}\n"
     ]
    }
   ],
   "source": [
    "play(game=game, agents=agents)"
   ]
  },
  {
   "cell_type": "code",
   "execution_count": 18,
   "metadata": {},
   "outputs": [
    {
     "name": "stdout",
     "output_type": "stream",
     "text": [
      "{'0': ['agent_0', array([0.99177632, 0.00822368])], '0b': ['agent_1', array([0.99038462, 0.00961538])], '0bb': ['agent_2', array([0.99618321, 0.00381679])], '0bp': ['agent_2', array([0.99427481, 0.00572519])], '0p': ['agent_1', array([0.73936201, 0.26063799])], '0pb': ['agent_2', array([0.99427481, 0.00572519])], '0pbb': ['agent_0', array([0.99716245, 0.00283755])], '0pbp': ['agent_0', array([0.99716245, 0.00283755])], '0pp': ['agent_2', array([0.72416497, 0.27583503])], '0ppb': ['agent_0', array([0.99716245, 0.00283755])], '0ppbb': ['agent_1', array([0.99610863, 0.00389137])], '0ppbp': ['agent_1', array([0.99610863, 0.00389137])], '1': ['agent_0', array([0.94936595, 0.05063405])], '1b': ['agent_1', array([0.99440299, 0.00559701])], '1bb': ['agent_2', array([0.99387755, 0.00612245])], '1bp': ['agent_2', array([0.98163265, 0.01836735])], '1p': ['agent_1', array([0.7965436, 0.2034564])], '1pb': ['agent_2', array([0.93897405, 0.06102595])], '1pbb': ['agent_0', array([0.99684664, 0.00315336])], '1pbp': ['agent_0', array([0.99684664, 0.00315336])], '1pp': ['agent_2', array([0.71343738, 0.28656262])], '1ppb': ['agent_0', array([0.94771253, 0.05228747])], '1ppbb': ['agent_1', array([0.9964949, 0.0035051])], '1ppbp': ['agent_1', array([0.9964949, 0.0035051])], '2': ['agent_0', array([0.87990805, 0.12009195])], '2b': ['agent_1', array([0.48041918, 0.51958082])], '2bb': ['agent_2', array([0.9958159, 0.0041841])], '2bp': ['agent_2', array([0.40705839, 0.59294161])], '2p': ['agent_1', array([0.99287009, 0.00712991])], '2pb': ['agent_2', array([0.48141712, 0.51858288])], '2pbb': ['agent_0', array([0.55881466, 0.44118534])], '2pbp': ['agent_0', array([0.5810721, 0.4189279])], '2pp': ['agent_2', array([0.9832636, 0.0167364])], '2ppb': ['agent_0', array([0.78862883, 0.21137117])], '2ppbb': ['agent_1', array([0.73915481, 0.26084519])], '2ppbp': ['agent_1', array([0.4755711, 0.5244289])], '3': ['agent_0', array([0.88948445, 0.11051555])], '3b': ['agent_1', array([0.00442478, 0.99557522])], '3bb': ['agent_2', array([0.00387597, 0.99612403])], '3bp': ['agent_2', array([0.00387597, 0.99612403])], '3p': ['agent_1', array([0.25309889, 0.74690111])], '3pb': ['agent_2', array([0.00968992, 0.99031008])], '3pbb': ['agent_0', array([0.00312798, 0.99687202])], '3pbp': ['agent_0', array([0.00312798, 0.99687202])], '3pp': ['agent_2', array([0.01162791, 0.98837209])], '3ppb': ['agent_0', array([0.00985176, 0.99014824])], '3ppbb': ['agent_1', array([0.03032911, 0.96967089])], '3ppbp': ['agent_1', array([0.03032911, 0.96967089])]}\n",
      "{'0': ['agent_0', array([0.92620937, 0.07379063])], '0b': ['agent_1', array([0.99570815, 0.00429185])], '0bb': ['agent_2', array([0.996, 0.004])], '0bp': ['agent_2', array([0.992, 0.008])], '0p': ['agent_1', array([0.72281264, 0.27718736])], '0pb': ['agent_2', array([0.996, 0.004])], '0pbb': ['agent_0', array([0.99667507, 0.00332493])], '0pbp': ['agent_0', array([0.99667507, 0.00332493])], '0pp': ['agent_2', array([0.69158272, 0.30841728])], '0ppb': ['agent_0', array([0.99667507, 0.00332493])], '0ppbb': ['agent_1', array([0.99555991, 0.00444009])], '0ppbp': ['agent_1', array([0.98963978, 0.01036022])], '1': ['agent_0', array([0.98600916, 0.01399084])], '1b': ['agent_1', array([0.99377593, 0.00622407])], '1bb': ['agent_2', array([0.99632353, 0.00367647])], '1bp': ['agent_2', array([0.99448529, 0.00551471])], '1p': ['agent_1', array([0.85509678, 0.14490322])], '1pb': ['agent_2', array([0.99080882, 0.00919118])], '1pbb': ['agent_0', array([0.99699952, 0.00300048])], '1pbp': ['agent_0', array([0.99699952, 0.00300048])], '1pp': ['agent_2', array([0.95918227, 0.04081773])], '1ppb': ['agent_0', array([0.99407843, 0.00592157])], '1ppbb': ['agent_1', array([0.99636942, 0.00363058])], '1ppbp': ['agent_1', array([0.86125953, 0.13874047])], '2': ['agent_0', array([0.9506017, 0.0493983])], '2b': ['agent_1', array([0.30239199, 0.69760801])], '2bb': ['agent_2', array([0.29906254, 0.70093746])], '2bp': ['agent_2', array([0.69979418, 0.30020582])], '2p': ['agent_1', array([0.92060085, 0.07939915])], '2pb': ['agent_2', array([0.7305669, 0.2694331])], '2pbb': ['agent_0', array([0.96827701, 0.03172299])], '2pbp': ['agent_0', array([0.75769759, 0.24230241])], '2pp': ['agent_2', array([0.93422764, 0.06577236])], '2ppb': ['agent_0', array([0.41374674, 0.58625326])], '2ppbb': ['agent_1', array([0.99604344, 0.00395656])], '2ppbp': ['agent_1', array([0.40557623, 0.59442377])], '3': ['agent_0', array([0.92498239, 0.07501761])], '3b': ['agent_1', array([0.00390625, 0.99609375])], '3bb': ['agent_2', array([0.00469484, 0.99530516])], '3bp': ['agent_2', array([0.00469484, 0.99530516])], '3p': ['agent_1', array([0.04235154, 0.95764846])], '3pb': ['agent_2', array([0.00938967, 0.99061033])], '3pbb': ['agent_0', array([0.00334305, 0.99665695])], '3pbp': ['agent_0', array([0.00334305, 0.99665695])], '3pp': ['agent_2', array([0.00704225, 0.99295775])], '3ppb': ['agent_0', array([0.00334305, 0.99665695])], '3ppbb': ['agent_1', array([0.08816791, 0.91183209])], '3ppbp': ['agent_1', array([0.08816791, 0.91183209])]}\n",
      "{'0': ['agent_0', array([0.88179451, 0.11820549])], '0b': ['agent_1', array([0.99616858, 0.00383142])], '0bb': ['agent_2', array([0.99215686, 0.00784314])], '0bp': ['agent_2', array([0.99607843, 0.00392157])], '0p': ['agent_1', array([0.98574552, 0.01425448])], '0pb': ['agent_2', array([0.99215686, 0.00784314])], '0pbb': ['agent_0', array([0.99632703, 0.00367297])], '0pbp': ['agent_0', array([0.99387839, 0.00612161])], '0pp': ['agent_2', array([0.86596363, 0.13403637])], '0ppb': ['agent_0', array([0.99632703, 0.00367297])], '0ppbb': ['agent_1', array([0.99709054, 0.00290946])], '0ppbp': ['agent_1', array([0.9934231, 0.0065769])], '1': ['agent_0', array([0.95436039, 0.04563961])], '1b': ['agent_1', array([0.99598394, 0.00401606])], '1bb': ['agent_2', array([0.99579832, 0.00420168])], '1bp': ['agent_2', array([0.99579832, 0.00420168])], '1p': ['agent_1', array([0.95171589, 0.04828411])], '1pb': ['agent_2', array([0.9894958, 0.0105042])], '1pbb': ['agent_0', array([0.99709502, 0.00290498])], '1pbp': ['agent_0', array([0.99709502, 0.00290498])], '1pp': ['agent_2', array([0.27986779, 0.72013221])], '1ppb': ['agent_0', array([0.97757664, 0.02242336])], '1ppbb': ['agent_1', array([0.99473634, 0.00526366])], '1ppbp': ['agent_1', array([0.80945426, 0.19054574])], '2': ['agent_0', array([0.95822723, 0.04177277])], '2b': ['agent_1', array([0.82134634, 0.17865366])], '2bb': ['agent_2', array([0.99625468, 0.00374532])], '2bp': ['agent_2', array([0.42831365, 0.57168635])], '2p': ['agent_1', array([0.94869369, 0.05130631])], '2pb': ['agent_2', array([0.71698152, 0.28301848])], '2pbb': ['agent_0', array([0.17497784, 0.82502216])], '2pbp': ['agent_0', array([0.80686903, 0.19313097])], '2pp': ['agent_2', array([0.95420218, 0.04579782])], '2ppb': ['agent_0', array([0.62201844, 0.37798156])], '2ppbb': ['agent_1', array([0.99665763, 0.00334237])], '2ppbp': ['agent_1', array([0.74580606, 0.25419394])], '3': ['agent_0', array([0.75528452, 0.24471548])], '3b': ['agent_1', array([0.00387597, 0.99612403])], '3bb': ['agent_2', array([0.00819672, 0.99180328])], '3bp': ['agent_2', array([0.00409836, 0.99590164])], '3p': ['agent_1', array([0.72455691, 0.27544309])], '3pb': ['agent_2', array([0.00819672, 0.99180328])], '3pbb': ['agent_0', array([0.00434267, 0.99565733])], '3pbp': ['agent_0', array([0.00434267, 0.99565733])], '3pp': ['agent_2', array([0.02254098, 0.97745902])], '3ppb': ['agent_0', array([0.00434267, 0.99565733])], '3ppbb': ['agent_1', array([0.00400137, 0.99599863])], '3ppbp': ['agent_1', array([0.00605336, 0.99394664])]}\n"
     ]
    }
   ],
   "source": [
    "game.reset()\n",
    "for agent in range(game.num_agents):\n",
    "    print(agents[game.agents[agent]].policy())\n"
   ]
  }
 ],
 "metadata": {
  "kernelspec": {
   "display_name": "Python 3",
   "language": "python",
   "name": "python3"
  },
  "language_info": {
   "codemirror_mode": {
    "name": "ipython",
    "version": 3
   },
   "file_extension": ".py",
   "mimetype": "text/x-python",
   "name": "python",
   "nbconvert_exporter": "python",
   "pygments_lexer": "ipython3",
   "version": "3.11.5"
  },
  "orig_nbformat": 4
 },
 "nbformat": 4,
 "nbformat_minor": 2
}
