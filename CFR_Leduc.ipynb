{
 "cells": [
  {
   "cell_type": "code",
   "execution_count": 28,
   "metadata": {},
   "outputs": [],
   "source": [
    "from games.kuhn import KuhnPoker\n",
    "from agents.counterfactualregret import CounterFactualRegret"
   ]
  },
  {
   "cell_type": "code",
   "execution_count": 29,
   "metadata": {},
   "outputs": [],
   "source": [
    "game = KuhnPoker()"
   ]
  },
  {
   "cell_type": "code",
   "execution_count": 30,
   "metadata": {},
   "outputs": [],
   "source": [
    "agent = CounterFactualRegret(game=game, agent=None)"
   ]
  },
  {
   "cell_type": "code",
   "execution_count": 31,
   "metadata": {},
   "outputs": [],
   "source": [
    "agent.train(10000)"
   ]
  },
  {
   "cell_type": "code",
   "execution_count": 32,
   "metadata": {},
   "outputs": [
    {
     "name": "stdout",
     "output_type": "stream",
     "text": [
      "0\t agent_0\t [0.85922755 0.14077245]\n",
      "0b\t agent_1\t [9.99697794e-01 3.02206105e-04]\n",
      "0p\t agent_1\t [0.66172492 0.33827508]\n",
      "0pb\t agent_0\t [9.99743240e-01 2.56760114e-04]\n",
      "1\t agent_0\t [9.99314860e-01 6.85140073e-04]\n",
      "1b\t agent_1\t [0.65101421 0.34898579]\n",
      "1p\t agent_1\t [0.99790231 0.00209769]\n",
      "1pb\t agent_0\t [0.49698915 0.50301085]\n",
      "2\t agent_0\t [0.54190111 0.45809889]\n",
      "2b\t agent_1\t [2.97885016e-04 9.99702115e-01]\n",
      "2p\t agent_1\t [0.00119154 0.99880846]\n",
      "2pb\t agent_0\t [4.16756575e-04 9.99583243e-01]\n"
     ]
    }
   ],
   "source": [
    "for n in sorted(agent.node_dict.keys()): \n",
    "    print(n + '\\t', agent.node_dict[n].agent + '\\t', agent.node_dict[n].policy())"
   ]
  },
  {
   "cell_type": "code",
   "execution_count": 34,
   "metadata": {},
   "outputs": [
    {
     "name": "stdout",
     "output_type": "stream",
     "text": [
      "Average rewards: {'agent_0': -0.0564, 'agent_1': 0.0564}\n"
     ]
    }
   ],
   "source": [
    "cum_rewards = dict(map(lambda ag: (ag, 0.), game.agents))\n",
    "niter = 10000\n",
    "for _ in range(niter):\n",
    "    game.reset()\n",
    "    turn = 0\n",
    "    while not game.done():\n",
    "        #print('Turn: ', turn)\n",
    "        #print('\\tPlayer: ', g.agent_selection)\n",
    "        #print('\\tObservation: ', g.observe(g.agent_selection))\n",
    "        agent.agent = game.agent_selection\n",
    "        a = agent.action()\n",
    "        #print('\\tAction: ', g._moves[a])\n",
    "        game.step(action=a)\n",
    "        turn += 1\n",
    "    #print('Rewards: ', g.rewards)\n",
    "    for ag in game.agents:\n",
    "        cum_rewards[ag] += game.rewards[ag]\n",
    "print('Average rewards:', dict(map(lambda ag: (ag, cum_rewards[ag]/niter), game.agents)))\n"
   ]
  }
 ],
 "metadata": {
  "kernelspec": {
   "display_name": "Python 3",
   "language": "python",
   "name": "python3"
  },
  "language_info": {
   "codemirror_mode": {
    "name": "ipython",
    "version": 3
   },
   "file_extension": ".py",
   "mimetype": "text/x-python",
   "name": "python",
   "nbconvert_exporter": "python",
   "pygments_lexer": "ipython3",
   "version": "3.11.3"
  },
  "orig_nbformat": 4
 },
 "nbformat": 4,
 "nbformat_minor": 2
}
