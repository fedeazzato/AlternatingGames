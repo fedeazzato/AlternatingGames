{
 "cells": [
  {
   "cell_type": "code",
   "execution_count": 1,
   "metadata": {},
   "outputs": [],
   "source": [
    "%load_ext autoreload\n",
    "%autoreload 2\n",
    "\n",
    "from games.kuhn import KuhnPoker\n",
    "from agents.agent_random import RandomAgent\n",
    "from agents.mcts_t import MonteCarloTreeSearch\n",
    "from base.utils import play, run\n",
    "import numpy as np"
   ]
  },
  {
   "cell_type": "code",
   "execution_count": 2,
   "metadata": {},
   "outputs": [],
   "source": [
    "game = KuhnPoker()"
   ]
  },
  {
   "cell_type": "code",
   "execution_count": 3,
   "metadata": {},
   "outputs": [
    {
     "name": "stdout",
     "output_type": "stream",
     "text": [
      "agent_0 Q \n",
      "agent_1 K \n",
      "agent_0 Q pbp\n",
      "agent_1 K pbp\n",
      "{'agent_0': -1, 'agent_1': 1}\n"
     ]
    }
   ],
   "source": [
    "agents = dict(map(lambda agent: (agent, RandomAgent(game=game, agent=agent)), game.agents))\n",
    "play(game=game, agents=agents)"
   ]
  },
  {
   "cell_type": "code",
   "execution_count": 4,
   "metadata": {},
   "outputs": [
    {
     "name": "stdout",
     "output_type": "stream",
     "text": [
      "agent_0 J \n",
      "agent_1 Q \n",
      "agent_0 J pp\n",
      "agent_1 Q pp\n",
      "{'agent_0': -1, 'agent_1': 1}\n"
     ]
    }
   ],
   "source": [
    "agents[game.agents[0]] = MonteCarloTreeSearch(game=game, agent=game.agents[0])\n",
    "play(game=game, agents=agents)"
   ]
  },
  {
   "cell_type": "code",
   "execution_count": 5,
   "metadata": {},
   "outputs": [
    {
     "name": "stdout",
     "output_type": "stream",
     "text": [
      "agent_0 K \n",
      "agent_1 Q \n",
      "agent_0 K pp\n",
      "agent_1 Q pp\n",
      "{'agent_0': 1, 'agent_1': -1}\n"
     ]
    }
   ],
   "source": [
    "agents[game.agents[1]] = MonteCarloTreeSearch(game=game, agent=game.agents[1])\n",
    "play(game=game, agents=agents)"
   ]
  },
  {
   "cell_type": "code",
   "execution_count": 14,
   "metadata": {},
   "outputs": [
    {
     "name": "stdout",
     "output_type": "stream",
     "text": [
      "None\n",
      "None\n"
     ]
    }
   ],
   "source": [
    "game.reset()\n",
    "for agent in range(game.num_agents):\n",
    "    print(agents[game.agents[agent]].policy())"
   ]
  },
  {
   "cell_type": "code",
   "execution_count": 19,
   "metadata": {},
   "outputs": [
    {
     "name": "stdout",
     "output_type": "stream",
     "text": [
      "<table>\n",
      "  <thead>\n",
      "    <tr>\n",
      "      <th>Run</th>\n",
      "      <th>Resultado agent_0</th>\n",
      "      <th>Resultado agent_1</th>\n",
      "      <th>Promedio</th>\n",
      "    </tr>\n",
      "  </thead>\n",
      "  <tbody>\n",
      "    <tr>\n",
      "      <td>1</td>\n",
      "      <td>0</td>\n",
      "      <td>1</td>\n",
      "      <td>1.0</td>\n",
      "    </tr>\n",
      "    <tr>\n",
      "      <td>2</td>\n",
      "      <td>1</td>\n",
      "      <td>0</td>\n",
      "      <td>-1.0</td>\n",
      "    </tr>\n",
      "    <tr>\n",
      "      <td>3</td>\n",
      "      <td>0</td>\n",
      "      <td>1</td>\n",
      "      <td>1.0</td>\n",
      "    </tr>\n",
      "    <tr>\n",
      "      <td>4</td>\n",
      "      <td>0</td>\n",
      "      <td>1</td>\n",
      "      <td>1.0</td>\n",
      "    </tr>\n",
      "    <tr>\n",
      "      <td>5</td>\n",
      "      <td>0</td>\n",
      "      <td>1</td>\n",
      "      <td>1.0</td>\n",
      "    </tr>\n",
      "    <tr>\n",
      "      <td>6</td>\n",
      "      <td>0</td>\n",
      "      <td>1</td>\n",
      "      <td>1.0</td>\n",
      "    </tr>\n",
      "    <tr>\n",
      "      <td>7</td>\n",
      "      <td>0</td>\n",
      "      <td>1</td>\n",
      "      <td>1.0</td>\n",
      "    </tr>\n",
      "    <tr>\n",
      "      <td>8</td>\n",
      "      <td>0</td>\n",
      "      <td>1</td>\n",
      "      <td>1.0</td>\n",
      "    </tr>\n",
      "    <tr>\n",
      "      <td>9</td>\n",
      "      <td>0</td>\n",
      "      <td>1</td>\n",
      "      <td>1.0</td>\n",
      "    </tr>\n",
      "    <tr>\n",
      "      <td>10</td>\n",
      "      <td>1</td>\n",
      "      <td>0</td>\n",
      "      <td>-1.0</td>\n",
      "    </tr>\n",
      "  </tbody>\n",
      "</table>\n"
     ]
    }
   ],
   "source": [
    "# Corridas y salida en formato tabla HTML\n",
    "results = []\n",
    "for _ in range(10):\n",
    "    result = run(game=game, agents=agents, N=1)\n",
    "    results.append(result)\n",
    "\n",
    "# HTML table header\n",
    "html_table = \"<table>\\n\"\n",
    "html_table += \"  <thead>\\n\"\n",
    "html_table += \"    <tr>\\n\"\n",
    "html_table += \"      <th>Run</th>\\n\"\n",
    "html_table += \"      <th>Resultado agent_0</th>\\n\"\n",
    "html_table += \"      <th>Resultado agent_1</th>\\n\"\n",
    "html_table += \"      <th>Promedio</th>\\n\"\n",
    "html_table += \"    </tr>\\n\"\n",
    "html_table += \"  </thead>\\n\"\n",
    "html_table += \"  <tbody>\\n\"\n",
    "\n",
    "# HTML table body with results\n",
    "for i, (counts, average) in enumerate(results, start=1):\n",
    "    html_table += f\"    <tr>\\n\"\n",
    "    html_table += f\"      <td>{i}</td>\\n\"\n",
    "    html_table += f\"      <td>{counts.get(-1, 0)}</td>\\n\"\n",
    "    html_table += f\"      <td>{counts.get(1, 0)}</td>\\n\"\n",
    "    html_table += f\"      <td>{average}</td>\\n\"\n",
    "    html_table += f\"    </tr>\\n\"\n",
    "\n",
    "# HTML table closing tags\n",
    "html_table += \"  </tbody>\\n\"\n",
    "html_table += \"</table>\"\n",
    "\n",
    "# Print the HTML table\n",
    "print(html_table)\n"
   ]
  }
 ],
 "metadata": {
  "kernelspec": {
   "display_name": "Python 3",
   "language": "python",
   "name": "python3"
  },
  "language_info": {
   "codemirror_mode": {
    "name": "ipython",
    "version": 3
   },
   "file_extension": ".py",
   "mimetype": "text/x-python",
   "name": "python",
   "nbconvert_exporter": "python",
   "pygments_lexer": "ipython3",
   "version": "3.11.0"
  },
  "orig_nbformat": 4
 },
 "nbformat": 4,
 "nbformat_minor": 2
}
