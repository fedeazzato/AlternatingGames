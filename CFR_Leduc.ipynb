{
 "cells": [
  {
   "cell_type": "code",
   "execution_count": 1,
   "metadata": {},
   "outputs": [],
   "source": [
    "%load_ext autoreload\n",
    "%autoreload 2\n",
    "\n",
    "from games.kuhn import KuhnPoker\n",
    "from agents.counterfactualregret import CounterFactualRegret"
   ]
  },
  {
   "cell_type": "code",
   "execution_count": 2,
   "metadata": {},
   "outputs": [],
   "source": [
    "game = KuhnPoker()"
   ]
  },
  {
   "cell_type": "code",
   "execution_count": 3,
   "metadata": {},
   "outputs": [],
   "source": [
    "agent = CounterFactualRegret(game=game, agent=None)"
   ]
  },
  {
   "cell_type": "code",
   "execution_count": 4,
   "metadata": {},
   "outputs": [],
   "source": [
    "agent.train(10000)"
   ]
  },
  {
   "cell_type": "code",
   "execution_count": 5,
   "metadata": {},
   "outputs": [
    {
     "name": "stdout",
     "output_type": "stream",
     "text": [
      "0\t agent_0\t [0.85369513 0.14630487]\n",
      "0b\t agent_1\t [9.99700330e-01 2.99670363e-04]\n",
      "0p\t agent_1\t [0.65901335 0.34098665]\n",
      "0pb\t agent_0\t [9.99732202e-01 2.67797841e-04]\n",
      "1\t agent_0\t [0.99730181 0.00269819]\n",
      "1b\t agent_1\t [0.62311611 0.37688389]\n",
      "1p\t agent_1\t [0.99851279 0.00148721]\n",
      "1pb\t agent_0\t [0.51848961 0.48151039]\n",
      "2\t agent_0\t [0.54870633 0.45129367]\n",
      "2b\t agent_1\t [3.02663438e-04 9.99697337e-01]\n",
      "2p\t agent_1\t [9.07990315e-04 9.99092010e-01]\n",
      "2pb\t agent_0\t [4.07904379e-04 9.99592096e-01]\n"
     ]
    }
   ],
   "source": [
    "for n in sorted(agent.node_dict.keys()): \n",
    "    print(n + '\\t', agent.node_dict[n].agent + '\\t', agent.node_dict[n].policy())"
   ]
  },
  {
   "cell_type": "code",
   "execution_count": 6,
   "metadata": {},
   "outputs": [
    {
     "name": "stdout",
     "output_type": "stream",
     "text": [
      "Average rewards: {'agent_0': -0.0509, 'agent_1': 0.0509}\n"
     ]
    }
   ],
   "source": [
    "cum_rewards = dict(map(lambda ag: (ag, 0.), game.agents))\n",
    "niter = 10000\n",
    "for _ in range(niter):\n",
    "    game.reset()\n",
    "    turn = 0\n",
    "    while not game.done():\n",
    "        #print('Turn: ', turn)\n",
    "        #print('\\tPlayer: ', g.agent_selection)\n",
    "        #print('\\tObservation: ', g.observe(g.agent_selection))\n",
    "        agent.agent = game.agent_selection\n",
    "        a = agent.action()\n",
    "        #print('\\tAction: ', g._moves[a])\n",
    "        game.step(action=a)\n",
    "        turn += 1\n",
    "    #print('Rewards: ', g.rewards)\n",
    "    for ag in game.agents:\n",
    "        cum_rewards[ag] += game.rewards[ag]\n",
    "print('Average rewards:', dict(map(lambda ag: (ag, cum_rewards[ag]/niter), game.agents)))\n"
   ]
  }
 ],
 "metadata": {
  "kernelspec": {
   "display_name": "Python 3",
   "language": "python",
   "name": "python3"
  },
  "language_info": {
   "codemirror_mode": {
    "name": "ipython",
    "version": 3
   },
   "file_extension": ".py",
   "mimetype": "text/x-python",
   "name": "python",
   "nbconvert_exporter": "python",
   "pygments_lexer": "ipython3",
   "version": "3.11.5"
  },
  "orig_nbformat": 4
 },
 "nbformat": 4,
 "nbformat_minor": 2
}
