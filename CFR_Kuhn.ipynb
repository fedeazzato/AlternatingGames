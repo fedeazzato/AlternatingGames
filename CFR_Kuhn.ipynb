{
 "cells": [
  {
   "cell_type": "code",
   "execution_count": 1,
   "metadata": {},
   "outputs": [],
   "source": [
    "%load_ext autoreload\n",
    "%autoreload 2\n",
    "\n",
    "from games.kuhn import KuhnPoker\n",
    "from agents.agent_random import RandomAgent\n",
    "from agents.counterfactualregret import CounterFactualRegret\n",
    "from base.utils import play, run\n",
    "import numpy as np"
   ]
  },
  {
   "cell_type": "code",
   "execution_count": 2,
   "metadata": {},
   "outputs": [],
   "source": [
    "game = KuhnPoker()"
   ]
  },
  {
   "cell_type": "code",
   "execution_count": 3,
   "metadata": {},
   "outputs": [
    {
     "name": "stdout",
     "output_type": "stream",
     "text": [
      "agent_0 K \n",
      "agent_1 J \n",
      "agent_0 K bb\n",
      "agent_1 J bb\n",
      "{'agent_0': 2, 'agent_1': -2}\n"
     ]
    }
   ],
   "source": [
    "agents = dict(map(lambda agent: (agent, RandomAgent(game=game, agent=agent)), game.agents))\n",
    "play(game=game, agents=agents)"
   ]
  },
  {
   "cell_type": "code",
   "execution_count": 4,
   "metadata": {},
   "outputs": [
    {
     "name": "stdout",
     "output_type": "stream",
     "text": [
      "agent_0 J \n",
      "agent_1 Q \n",
      "agent_0 J pp\n",
      "agent_1 Q pp\n",
      "{'agent_0': -1, 'agent_1': 1}\n"
     ]
    }
   ],
   "source": [
    "cfr_agent = CounterFactualRegret(game=game, agent=game.agents[0])\n",
    "cfr_agent.train()\n",
    "agents[game.agents[0]] = cfr_agent\n",
    "play(game=game, agents=agents)"
   ]
  },
  {
   "cell_type": "code",
   "execution_count": 5,
   "metadata": {},
   "outputs": [
    {
     "name": "stdout",
     "output_type": "stream",
     "text": [
      "agent_0 J \n",
      "agent_1 K \n",
      "agent_0 J pp\n",
      "agent_1 K pp\n",
      "{'agent_0': -1, 'agent_1': 1}\n"
     ]
    }
   ],
   "source": [
    "play(game=game, agents=agents)"
   ]
  },
  {
   "cell_type": "code",
   "execution_count": 6,
   "metadata": {},
   "outputs": [],
   "source": [
    "cfr_agent = CounterFactualRegret(game=game, agent=game.agents[1])\n",
    "cfr_agent.train()\n",
    "agents[game.agents[1]] = cfr_agent"
   ]
  },
  {
   "cell_type": "code",
   "execution_count": 7,
   "metadata": {},
   "outputs": [
    {
     "name": "stdout",
     "output_type": "stream",
     "text": [
      "agent_0 J \n",
      "agent_1 Q \n",
      "agent_0 J bb\n",
      "agent_1 Q bb\n",
      "{'agent_0': -2, 'agent_1': 2}\n"
     ]
    }
   ],
   "source": [
    "play(game=game, agents=agents)"
   ]
  },
  {
   "cell_type": "code",
   "execution_count": 8,
   "metadata": {},
   "outputs": [
    {
     "data": {
      "text/plain": [
       "({-2: 1072, -1: 3998, 1: 4058, 2: 872}, -0.034)"
      ]
     },
     "execution_count": 8,
     "metadata": {},
     "output_type": "execute_result"
    }
   ],
   "source": [
    "run(game=game, agents=agents, N=10000)"
   ]
  },
  {
   "cell_type": "code",
   "execution_count": 9,
   "metadata": {},
   "outputs": [
    {
     "name": "stdout",
     "output_type": "stream",
     "text": [
      "Run\t-2\t-1\t1\t2\tValue\n",
      "1\t1037\t4107\t4018\t838\t-0.0487\n",
      "2\t1069\t4035\t4008\t888\t-0.0389\n",
      "3\t1067\t4093\t3997\t843\t-0.0544\n",
      "4\t1065\t4064\t4027\t844\t-0.0479\n",
      "5\t1079\t3981\t4058\t882\t-0.0317\n",
      "6\t1129\t4086\t3928\t857\t-0.0702\n",
      "7\t1065\t4064\t4017\t854\t-0.0469\n",
      "8\t1078\t4056\t4013\t853\t-0.0493\n",
      "9\t1060\t4096\t3986\t858\t-0.0514\n",
      "10\t1071\t4024\t4059\t846\t-0.0415\n"
     ]
    }
   ],
   "source": [
    "# Initialize a list to store the results\n",
    "results = []\n",
    "\n",
    "# Run the function 10 times\n",
    "for _ in range(10):\n",
    "    result = run(game=game, agents=agents, N=10000)\n",
    "    results.append(result)\n",
    "\n",
    "# Print the header\n",
    "print(\"Run\\t-2\\t-1\\t1\\t2\\tValue\")\n",
    "\n",
    "# Print the results as a text table\n",
    "for i, (counts, value) in enumerate(results, start=1):\n",
    "    print(f\"{i}\\t{counts[-2]}\\t{counts[-1]}\\t{counts[1]}\\t{counts[2]}\\t{value:.4f}\")\n"
   ]
  },
  {
   "cell_type": "code",
   "execution_count": 10,
   "metadata": {},
   "outputs": [
    {
     "name": "stdout",
     "output_type": "stream",
     "text": [
      "{'0': ['agent_0', array([0.90750797, 0.09249203])], '0b': ['agent_1', array([0.99705015, 0.00294985])], '0p': ['agent_1', array([0.68098042, 0.31901958])], '0pb': ['agent_0', array([0.9975874, 0.0024126])], '1': ['agent_0', array([0.97970619, 0.02029381])], '1b': ['agent_1', array([0.73912796, 0.26087204])], '1p': ['agent_1', array([0.94057971, 0.05942029])], '1pb': ['agent_0', array([0.485111, 0.514889])], '2': ['agent_0', array([0.6707699, 0.3292301])], '2b': ['agent_1', array([0.0031348, 0.9968652])], '2p': ['agent_1', array([0.01097179, 0.98902821])], '2pb': ['agent_0', array([0.00353002, 0.99646998])]}\n",
      "{'0': ['agent_0', array([0.82385085, 0.17614915])], '0b': ['agent_1', array([0.9968652, 0.0031348])], '0p': ['agent_1', array([0.67457986, 0.32542014])], '0pb': ['agent_0', array([0.99739605, 0.00260395])], '1': ['agent_0', array([0.95950085, 0.04049915])], '1b': ['agent_1', array([0.66150314, 0.33849686])], '1p': ['agent_1', array([0.97546012, 0.02453988])], '1pb': ['agent_0', array([0.44898316, 0.55101684])], '2': ['agent_0', array([0.37069866, 0.62930134])], '2b': ['agent_1', array([0.0027933, 0.9972067])], '2p': ['agent_1', array([0.0027933, 0.9972067])], '2pb': ['agent_0', array([0.00629598, 0.99370402])]}\n"
     ]
    }
   ],
   "source": [
    "game.reset()\n",
    "for agent in range(game.num_agents):\n",
    "    print(agents[game.agents[agent]].policy())"
   ]
  }
 ],
 "metadata": {
  "kernelspec": {
   "display_name": "Python 3",
   "language": "python",
   "name": "python3"
  },
  "language_info": {
   "codemirror_mode": {
    "name": "ipython",
    "version": 3
   },
   "file_extension": ".py",
   "mimetype": "text/x-python",
   "name": "python",
   "nbconvert_exporter": "python",
   "pygments_lexer": "ipython3",
   "version": "3.11.0"
  },
  "orig_nbformat": 4
 },
 "nbformat": 4,
 "nbformat_minor": 2
}
